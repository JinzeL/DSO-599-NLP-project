{
 "cells": [
  {
   "cell_type": "markdown",
   "metadata": {},
   "source": [
    "# PERSONALIZED RESULTS RANKING APPROACH​"
   ]
  },
  {
   "cell_type": "markdown",
   "metadata": {},
   "source": [
    "# tf-idf word_embedding"
   ]
  },
  {
   "cell_type": "code",
   "execution_count": 1,
   "metadata": {
    "ExecuteTime": {
     "end_time": "2019-04-29T02:13:42.108189Z",
     "start_time": "2019-04-29T02:13:01.780657Z"
    }
   },
   "outputs": [],
   "source": [
    "import pandas as pd \n",
    "import numpy as np\n",
    "import sklearn\n",
    "import random\n",
    "import nltk\n",
    "\n",
    "from sklearn.feature_extraction.text import CountVectorizer\n",
    "from sklearn.metrics.pairwise import cosine_similarity\n",
    "from nltk.stem.porter import PorterStemmer\n",
    "from sklearn.feature_extraction.text import TfidfVectorizer\n",
    "from nltk.corpus import stopwords\n",
    "\n",
    "import spacy\n",
    "from itertools import product\n",
    "import en_core_web_sm\n",
    "from scipy.spatial.distance import cosine\n",
    "nlp = spacy.load(\"en_core_web_md\")"
   ]
  },
  {
   "cell_type": "code",
   "execution_count": 2,
   "metadata": {
    "ExecuteTime": {
     "end_time": "2019-04-29T02:13:45.125959Z",
     "start_time": "2019-04-29T02:13:42.118234Z"
    }
   },
   "outputs": [],
   "source": [
    "hotel = pd.read_csv('Hotel_Reviews.csv')\n",
    "## sample the data records\n",
    "sample_df = hotel.sample(n=5000, random_state=1)\n",
    "\n",
    "reviews = list(sample_df['Positive_Review'])\n",
    "#random.seed(1)\n",
    "#reviews = random.sample(positive, 5000)\n",
    "##100,000 kernel died\n",
    "    "
   ]
  },
  {
   "cell_type": "code",
   "execution_count": 49,
   "metadata": {
    "ExecuteTime": {
     "end_time": "2019-04-29T02:01:53.866453Z",
     "start_time": "2019-04-29T02:01:53.724470Z"
    }
   },
   "outputs": [
    {
     "name": "stdout",
     "output_type": "stream",
     "text": [
      " Nothing was too much trouble The staff were attentive at all times and the hotel staff made the stay very comfortable \n",
      "[-0.02036332  0.11480764 -0.1337123  -0.16508472 -0.05305532  0.03085167\n",
      "  0.08294568 -0.15408526  0.00287191  2.4965317 ]\n",
      " I loved there shower It felt like you were under a fire hose Great hotel \n",
      "[ 0.09481687  0.1639115  -0.07088251 -0.16056776  0.05718728 -0.03571013\n",
      " -0.00516431 -0.20512375 -0.03641231  2.1244574 ]\n",
      " beds really comfy and the location is great also maid was such a sweetheart \n",
      "[ 0.09935428  0.12342419 -0.18267745 -0.06830308  0.10166502  0.02186574\n",
      "  0.09252147 -0.3289746  -0.08778306  2.0171373 ]\n",
      " Really nice hotel good facilities great staff and very clean Only minor issue was temperature of main pool Would definitely recommend though \n",
      "[ 0.007346    0.18698248 -0.07363852 -0.12694596  0.02017065  0.01363452\n",
      "  0.04054935 -0.25043872 -0.10213464  2.2373009 ]\n",
      " Everything is super And room and design Very clean Super \n",
      "[-0.07527246  0.13330118 -0.13143617 -0.07530019  0.03367482  0.019958\n",
      "  0.11108372 -0.22539526 -0.06528582  1.7519473 ]\n",
      " Really comfy bed and the pool area was lovely Excellent staff too and brilliant location for the beach and bars \n",
      "[ 0.21385653  0.12123847 -0.12057509 -0.11077391  0.11600977  0.02981997\n",
      "  0.05057172 -0.21632859 -0.07852628  2.15266   ]\n"
     ]
    }
   ],
   "source": [
    "for idx, review in enumerate(reviews):\n",
    "    print(nlp(review))\n",
    "    print(nlp(review).vector[:10]) \n",
    "    \n",
    "    if idx == 5: # stop printing after first 5 or so, takes a long time!\n",
    "        break"
   ]
  },
  {
   "cell_type": "code",
   "execution_count": 3,
   "metadata": {
    "ExecuteTime": {
     "end_time": "2019-04-29T02:13:45.332467Z",
     "start_time": "2019-04-29T02:13:45.192590Z"
    }
   },
   "outputs": [],
   "source": [
    "from sklearn.feature_extraction.text import TfidfVectorizer\n",
    "\n",
    "vectorizer = TfidfVectorizer()\n",
    "X = vectorizer.fit_transform(reviews)\n",
    "\n",
    "tf_idf_lookup_table = pd.DataFrame(X.toarray(), columns=vectorizer.get_feature_names())"
   ]
  },
  {
   "cell_type": "code",
   "execution_count": 4,
   "metadata": {
    "ExecuteTime": {
     "end_time": "2019-04-29T02:13:45.855173Z",
     "start_time": "2019-04-29T02:13:45.630295Z"
    }
   },
   "outputs": [],
   "source": [
    "DOCUMENT_SUM_COLUMN = \"DOCUMENT_TF_IDF_SUM\"\n",
    "\n",
    "# sum the tf idf scores for each document\n",
    "tf_idf_lookup_table[DOCUMENT_SUM_COLUMN] = tf_idf_lookup_table.sum(axis=1)\n",
    "available_tf_idf_scores = tf_idf_lookup_table.columns # a list of all the columns we have\n",
    "available_tf_idf_scores = list(map( lambda x: x.lower(), available_tf_idf_scores)) # lowercase everything"
   ]
  },
  {
   "cell_type": "code",
   "execution_count": 5,
   "metadata": {
    "ExecuteTime": {
     "end_time": "2019-04-29T02:14:27.483616Z",
     "start_time": "2019-04-29T02:13:46.203325Z"
    }
   },
   "outputs": [],
   "source": [
    "import numpy as np\n",
    "\n",
    "reviews_vectors = []\n",
    "for idx, review in enumerate(reviews): # iterate through each review\n",
    " \n",
    "    tokens = nlp(review) # have spacy tokenize the review text\n",
    "    \n",
    "    # initially start a running total of tf-idf scores for a document\n",
    "    total_tf_idf_score_per_document = 0\n",
    "    \n",
    "    # start a running total of initially all zeroes (300 is picked since that is the word embedding size used by word2vec)\n",
    "    running_total_word_embedding = np.zeros(300) \n",
    "    for token in tokens: # iterate through each token\n",
    "    \n",
    "    # if the token has a pretrained word embedding it also has a tf-idf score\n",
    "        if token.has_vector and token.text.lower() in available_tf_idf_scores:\n",
    "            \n",
    "            tf_idf_score = tf_idf_lookup_table.loc[idx, token.text.lower()]\n",
    "            #print(f\"{token} has tf-idf score of {tf_idf_lookup_table.loc[idx, token.text.lower()]}\")\n",
    "            running_total_word_embedding += tf_idf_score * token.vector\n",
    "            \n",
    "            total_tf_idf_score_per_document += tf_idf_score\n",
    "    \n",
    "    # divide the total embedding by the total tf-idf score for each document\n",
    "    ###deqi: avoid dividing by 0\n",
    "    if total_tf_idf_score_per_document<=0.00001:\n",
    "        document_embedding = np.random.rand(1,300)[0]\n",
    "    else:\n",
    "        document_embedding = running_total_word_embedding / total_tf_idf_score_per_document\n",
    "    reviews_vectors.append(document_embedding)"
   ]
  },
  {
   "cell_type": "code",
   "execution_count": 6,
   "metadata": {
    "ExecuteTime": {
     "end_time": "2019-04-29T02:14:38.144964Z",
     "start_time": "2019-04-29T02:14:38.135283Z"
    }
   },
   "outputs": [
    {
     "data": {
      "text/plain": [
       "5000"
      ]
     },
     "execution_count": 6,
     "metadata": {},
     "output_type": "execute_result"
    }
   ],
   "source": [
    "len(reviews_vectors)"
   ]
  },
  {
   "cell_type": "code",
   "execution_count": 7,
   "metadata": {
    "ExecuteTime": {
     "end_time": "2019-04-29T02:14:49.164132Z",
     "start_time": "2019-04-29T02:14:48.878370Z"
    }
   },
   "outputs": [],
   "source": [
    "from sklearn.metrics.pairwise import cosine_similarity\n",
    "similarities = pd.DataFrame(cosine_similarity(reviews_vectors), columns=reviews, index=reviews)"
   ]
  },
  {
   "cell_type": "code",
   "execution_count": 8,
   "metadata": {
    "ExecuteTime": {
     "end_time": "2019-04-29T02:15:12.930651Z",
     "start_time": "2019-04-29T02:15:00.252604Z"
    }
   },
   "outputs": [],
   "source": [
    "similarities = similarities.unstack().reset_index()\n",
    "similarities.columns = [\"review1\", \"review2\", \"similarity\"]\n",
    "similarities = similarities[similarities[\"similarity\"] < 0.9999999999]\n",
    "similarities.drop_duplicates(subset=[\"similarity\"], inplace=True)"
   ]
  },
  {
   "cell_type": "code",
   "execution_count": 9,
   "metadata": {
    "ExecuteTime": {
     "end_time": "2019-04-29T02:15:28.406870Z",
     "start_time": "2019-04-29T02:15:23.570457Z"
    }
   },
   "outputs": [
    {
     "name": "stdout",
     "output_type": "stream",
     "text": [
      " Location\n",
      "--------------------\n",
      " Location location and location\n",
      "\n",
      "\n",
      "\n",
      " Location location and location\n",
      "--------------------\n",
      " Frear location\n",
      "\n",
      "\n",
      "\n",
      " Location location and location\n",
      "--------------------\n",
      " Locatio location location\n",
      "\n",
      "\n",
      "\n",
      " the kindness of the staff\n",
      "--------------------\n",
      " The friendliness of the staff\n",
      "\n",
      "\n",
      "\n",
      " Location and comforts \n",
      "--------------------\n",
      " Location and comfort \n",
      "\n",
      "\n",
      "\n",
      " Staff were very helpful and friendly\n",
      "--------------------\n",
      " The staff were very friendly and helpful \n",
      "\n",
      "\n",
      "\n",
      " The bed was extremely comfortable \n",
      "--------------------\n",
      " Bed was extremely comfortable \n",
      "\n",
      "\n",
      "\n",
      " Breakfast very friendly staff excellent location\n",
      "--------------------\n",
      " Excellent location friendly staff very good breakfast\n",
      "\n",
      "\n",
      "\n",
      " The bed was really comfortable \n",
      "--------------------\n",
      " Bed was really comfortable \n",
      "\n",
      "\n",
      "\n",
      " Good breakfast comfy bed\n",
      "--------------------\n",
      " breakfast n a bed very comfy\n",
      "\n",
      "\n",
      "\n",
      " Bed was very comfy\n",
      "--------------------\n",
      " The bed was very comfy\n",
      "\n",
      "\n",
      "\n",
      " Friendly and very helpful staff \n",
      "--------------------\n",
      " Very helpful friendly staff\n",
      "\n",
      "\n",
      "\n",
      " Staff very friendly and helpful\n",
      "--------------------\n",
      " Very helpful friendly staff\n",
      "\n",
      "\n",
      "\n",
      " Clean comfortable bed room Good breakfast \n",
      "--------------------\n",
      " Clean good breakfast comfortable bed \n",
      "\n",
      "\n",
      "\n",
      " Staff were very helpful and friendly\n",
      "--------------------\n",
      " Staff were friendly and helpful \n",
      "\n",
      "\n",
      "\n",
      " Staff was friendly and helpful \n",
      "--------------------\n",
      " Staff was friendly helpful \n",
      "\n",
      "\n",
      "\n",
      " Great location and very helpful staff \n",
      "--------------------\n",
      " Good location and staff very helpful\n",
      "\n",
      "\n",
      "\n",
      " Every thing is perfect\n",
      "--------------------\n",
      " Every thing was perfect\n",
      "\n",
      "\n",
      "\n",
      " Not much\n",
      "--------------------\n",
      " Not very much\n",
      "\n",
      "\n",
      "\n",
      " Very good breakfasts \n",
      "--------------------\n",
      " Good breakfast\n",
      "\n",
      "\n",
      "\n",
      " Staff were very helpful\n",
      "--------------------\n",
      " The staff were very helpful \n",
      "\n",
      "\n",
      "\n",
      " the staff were ALL lovely and really helpful and welcoming and very natural with it the decor was fabulous and the beds were the most comfortable ever and we travel many times per year so they were the best breakfast was great and the dining and lounge very comfortable will stay again \n",
      "--------------------\n",
      " Although the hotel is very central the rooms are lovely and quiet I loved the comfy bed and fabulous bedding The staff were extremely friendly and helpful and the restaurants are good also I stayed by myself this time and felt very safe The concierge staff are very helpful and have great knowledge of the city and what is going on I have stayed there twice and will stay again \n",
      "\n",
      "\n",
      "\n",
      " The bed was comfy \n",
      "--------------------\n",
      " bed was comfy\n",
      "\n",
      "\n",
      "\n",
      " Hotel was fab \n",
      "--------------------\n",
      " The hotel was fabulous \n",
      "\n",
      "\n",
      "\n",
      " Bed was amazing\n",
      "--------------------\n",
      " The bed was amazing\n",
      "\n",
      "\n",
      "\n",
      " Location is great Good family room\n",
      "--------------------\n",
      " Great location good family room\n",
      "\n",
      "\n",
      "\n",
      " Good value for money\n",
      "--------------------\n",
      " Value for money\n",
      "\n",
      "\n",
      "\n",
      " I booked a deluxe double room indicated for 2 people even if I was alone Number 408 The meeting at the reception was really nice The receptionist are friendly and kind The bed was comfortable The position is good you still have to walk 8 minutes to get to the central line that bring you to the city center but the surround is calm a nice park in the front of the hotel \n",
      "--------------------\n",
      " The bed was fantastic as were the bed sheets and the bathroom although small was very nice The cleaning staff did a great job with the room when we asked them to clean and overall we were really satisfied with the room The location is really great especially if you want to catch the tube as it is just across the road and has the northern and victoria lines which take you into the city \n",
      "\n",
      "\n",
      "\n",
      " room was spacious and comfortable\n",
      "--------------------\n",
      " Comfortable and spacious room\n",
      "\n",
      "\n",
      "\n",
      " Great location Great Staff Great breakfast \n",
      "--------------------\n",
      " Great location great Staff\n",
      "\n",
      "\n",
      "\n",
      " Everything was good\n",
      "--------------------\n",
      " Everything was very good \n",
      "\n",
      "\n",
      "\n",
      " Location great place to stay\n",
      "--------------------\n",
      " Great place to stay \n",
      "\n",
      "\n",
      "\n",
      " Nice spacious room very clean and really great location \n",
      "--------------------\n",
      " Really clean rooms Great location\n",
      "\n",
      "\n",
      "\n",
      " The beds were very comfortable \n",
      "--------------------\n",
      " The beds were so comfortable\n",
      "\n",
      "\n",
      "\n",
      " The location was excellent for us as we were attending an event at Excell literally across the square from the hotel so a very short walk at the start and end of the day The whole area was great close to train for going into central London the cable car to go across to the 02 really attractive docks and lots of restaurants bars in the area and a couple of convenience stores Parking at hotel was excellent and good value for our stay Hotel was attractively designed comfy bed and lovely breakfast Took us a while to realise that the glass wall from the bedroom to the shower room and toilet could be frosted over by pressing a button We really enjoyed our stay and would definately stay again \n",
      "--------------------\n",
      " I loved that it is located just a few minutes away from the beach We walked with our dog all the way approx 6km from the hotel to the city along the beach and it was wonderful A lot to see and very beautiful walk The hotel itself is situated beside a shopping center at the end of the diagonal road Easy access also to supermarkets to buy water and food for our trip back home in the car Hotel is easily to find with our car and with a good underground parking garage 18 per day It is not a five star hotel obviously but ok for the price and we are convinced and We will book it definitely again the next time in Barcelona \n",
      "\n",
      "\n",
      "\n",
      " Staff were fantastic \n",
      "--------------------\n",
      " The staff were fantastic\n",
      "\n",
      "\n",
      "\n",
      " Very clean spacious rooms \n",
      "--------------------\n",
      " The rooms clean and spacious \n",
      "\n",
      "\n",
      "\n",
      " The bed was very comfy\n",
      "--------------------\n",
      " The bed was comfy \n",
      "\n",
      "\n",
      "\n",
      " The staff were so accommodating\n",
      "--------------------\n",
      " The staff were very accommodating\n",
      "\n",
      "\n",
      "\n",
      " Location great Staff friendly \n",
      "--------------------\n",
      " Great location staff very friendly\n",
      "\n",
      "\n",
      "\n",
      " The Bed was comfortable \n",
      "--------------------\n",
      " The bed was very comfortable\n",
      "\n",
      "\n",
      "\n",
      " Friendly and helpful staff\n",
      "--------------------\n",
      " Friendly helpful staff\n",
      "\n",
      "\n",
      "\n",
      " Staff very helpful \n",
      "--------------------\n",
      " Very helpfull staff \n",
      "\n",
      "\n",
      "\n",
      " The hotel was extremely futuristic from a design perspective and had very fancy electrical fittings The decor was nice the location was pretty central beside the large mall and close to the Big Bus bustop and the breakfast has to be the best one can offer at that price It was a massive spread and really value for money The staff were pretty helpful as well and there were loads of little convenience stores around to get basic necessities The view from the swimming pool on the top floor was marvellous and the entire takeaway from our 3 night stay at this hotel was positive \n",
      "--------------------\n",
      " The location was excellent for us as we were attending an event at Excell literally across the square from the hotel so a very short walk at the start and end of the day The whole area was great close to train for going into central London the cable car to go across to the 02 really attractive docks and lots of restaurants bars in the area and a couple of convenience stores Parking at hotel was excellent and good value for our stay Hotel was attractively designed comfy bed and lovely breakfast Took us a while to realise that the glass wall from the bedroom to the shower room and toilet could be frosted over by pressing a button We really enjoyed our stay and would definately stay again \n",
      "\n",
      "\n",
      "\n",
      " Location of hotel\n",
      "--------------------\n",
      " location of the hotel\n",
      "\n",
      "\n",
      "\n",
      " The hotel was extremely futuristic from a design perspective and had very fancy electrical fittings The decor was nice the location was pretty central beside the large mall and close to the Big Bus bustop and the breakfast has to be the best one can offer at that price It was a massive spread and really value for money The staff were pretty helpful as well and there were loads of little convenience stores around to get basic necessities The view from the swimming pool on the top floor was marvellous and the entire takeaway from our 3 night stay at this hotel was positive \n",
      "--------------------\n",
      " The bed was fantastic as were the bed sheets and the bathroom although small was very nice The cleaning staff did a great job with the room when we asked them to clean and overall we were really satisfied with the room The location is really great especially if you want to catch the tube as it is just across the road and has the northern and victoria lines which take you into the city \n",
      "\n",
      "\n",
      "\n",
      " This was beyond wonderful There is no need to search any longer for the best Paris Hotel Beyond the fantastic location which is right near pont du neuf set on a quiet street off an alley way that was safe 1 2 a block to the metro across from the Louvre and many restaurants within feet of you what makes the hotel literally the very best we have stayed at through all our Europe traveling from London to Paris to Rome is the staff Frederique and the rest of the staff were all so caring patient sweet and above all knowledgable Anything we needed from a taxi restaurant laundry exceptional and always strong wifi food drinks help and anything else especially being new to the area and traveling with kids from ages 6 thru 15 they provided Each day 24 hours someone was there at the desk in case you needed anything at all or had any questions We are so grateful to them all for making our stay so comfortable The breakfast served delivered daily to your room was plentiful delicious very reasonable for the amount of food they provided and exceptionally delicious Actually it was the best chocolat croissants and coffee we had the entire trip The room was the adjoining two rooms for a large family of 5 or more It was a great size two bathrooms all you needed in the room including TV a mini bar safe that only you have the key too and the most comfortable beds We had 4 beds for 5 people Each Kid had their own area and we had our own area as well Yes one shower was slightly small but the other made up for it so no one had an issue They had a lift if needed The wifi was always working and always strong as was the air conditioning The atmosphere was perfect for all ages What else can I say about how amazingly great the hotel location and staff were Basically we will never stay anywhere else when visiting Paris This will be it We thank them all and miss them already \n",
      "--------------------\n",
      " WOW What to say I loved everything This place was much much more cool than I expected It s decoration was quirky unique chic and trendy You can t stop exploring even though it s not even that big of a building The staff was fantastic they upgraded me because the room wasn t ready so I was very grateful The hotel itself is quiet and comfortable more than you d think The room was sooo comfy and very clean And the location TAKE ME BACK TO FOOD DE HALLEN which is connected to the hotel The neighborhood is the best and super trendy safe I paid twice the amount for a luxury hotel in Dam Square the night before and this was much more enjoyable comfy and for half the price per night I enjoyed being away from so many tourists all the while being treated greatly as one if anyone noticed haha Please do yourself the favor of experiencing this place and the location if you visit beautiful Amsterdam \n",
      "\n",
      "\n",
      "\n",
      " Excellent location friendly staff and a nice breakfast \n",
      "--------------------\n",
      " Excellent location friendly staff very good breakfast\n",
      "\n",
      "\n",
      "\n",
      " Great helpful staff Good location\n",
      "--------------------\n",
      " Great location helpful staff\n",
      "\n",
      "\n",
      "\n",
      " Lovely clean and modern hotel The staff were very helpful and friendly Location was decent Stayed in the standard room and was surprised how big the room was which even included a walk in closet On our last night the hot water was out for a few hours and was offered free breakfast which was nice when we checked out Would definitely stay again \n",
      "--------------------\n",
      " The room was very basic but all the amenities were great Room was very clean shower was great bed was comfy TV was good and the staff were friendly and helpful throughout the trip We only used it as a base as we were out all day and night so it was great value for money Would recommend to others\n",
      "\n",
      "\n",
      "\n"
     ]
    }
   ],
   "source": [
    "for idx, row in similarities.sort_values(by=\"similarity\", ascending=False).head(50).iterrows():\n",
    "    print(row[\"review1\"])\n",
    "    print(\"--\" * 10)\n",
    "    print(row[\"review2\"])\n",
    "    print(\"\\n\\n\")"
   ]
  },
  {
   "cell_type": "markdown",
   "metadata": {},
   "source": [
    "## PCA"
   ]
  },
  {
   "cell_type": "code",
   "execution_count": 10,
   "metadata": {
    "ExecuteTime": {
     "end_time": "2019-04-29T02:15:39.733079Z",
     "start_time": "2019-04-29T02:15:39.246925Z"
    }
   },
   "outputs": [],
   "source": [
    "review=pd.DataFrame(reviews_vectors) #2000 review vector\n",
    "from sklearn.decomposition import PCA\n",
    "pca = PCA(n_components=10)\n",
    "principalComponents = pca.fit_transform(review)"
   ]
  },
  {
   "cell_type": "code",
   "execution_count": 11,
   "metadata": {
    "ExecuteTime": {
     "end_time": "2019-04-29T02:15:50.462773Z",
     "start_time": "2019-04-29T02:15:50.456848Z"
    }
   },
   "outputs": [
    {
     "data": {
      "text/plain": [
       "array([0.18384327, 0.12613442, 0.07422345, 0.05226313, 0.03988431,\n",
       "       0.03423041, 0.0262875 , 0.02299236, 0.02216843, 0.01934463])"
      ]
     },
     "execution_count": 11,
     "metadata": {},
     "output_type": "execute_result"
    }
   ],
   "source": [
    "pca.explained_variance_ratio_"
   ]
  },
  {
   "cell_type": "code",
   "execution_count": 12,
   "metadata": {
    "ExecuteTime": {
     "end_time": "2019-04-29T02:16:01.152971Z",
     "start_time": "2019-04-29T02:16:01.148682Z"
    }
   },
   "outputs": [],
   "source": [
    "principalDf = pd.DataFrame(data = principalComponents\n",
    "             , columns = ['principal component' + str(i) for i in range(1,11)])"
   ]
  },
  {
   "cell_type": "code",
   "execution_count": 13,
   "metadata": {
    "ExecuteTime": {
     "end_time": "2019-04-29T02:16:12.122588Z",
     "start_time": "2019-04-29T02:16:11.790377Z"
    },
    "scrolled": true
   },
   "outputs": [
    {
     "data": {
      "text/plain": [
       "<matplotlib.collections.PathCollection at 0x1a4c57dcf8>"
      ]
     },
     "execution_count": 13,
     "metadata": {},
     "output_type": "execute_result"
    }
   ],
   "source": [
    "import matplotlib.pyplot as plt\n",
    "\n",
    "plt.scatter(principalDf.iloc[:,0],principalDf.iloc[:,1])"
   ]
  },
  {
   "cell_type": "markdown",
   "metadata": {},
   "source": [
    "## TSNE"
   ]
  },
  {
   "cell_type": "code",
   "execution_count": 36,
   "metadata": {
    "ExecuteTime": {
     "end_time": "2019-04-29T01:13:15.806013Z",
     "start_time": "2019-04-29T01:10:05.328801Z"
    }
   },
   "outputs": [
    {
     "name": "stdout",
     "output_type": "stream",
     "text": [
      "t-SNE done! Time elapsed: 190.47170209884644 seconds\n"
     ]
    }
   ],
   "source": [
    "from sklearn.manifold import TSNE\n",
    "import time\n",
    "time_start = time.time()\n",
    "\n",
    "fashion_tsne = TSNE(random_state=1,n_components=3).fit_transform(review)\n",
    "\n",
    "print('t-SNE done! Time elapsed: {} seconds'.format(time.time()-time_start))"
   ]
  },
  {
   "cell_type": "code",
   "execution_count": 17,
   "metadata": {
    "ExecuteTime": {
     "end_time": "2019-04-29T00:45:26.414250Z",
     "start_time": "2019-04-29T00:45:26.410236Z"
    }
   },
   "outputs": [],
   "source": [
    "x1= pd.DataFrame(fashion_tsne).iloc[:,0]\n",
    "x2= pd.DataFrame(fashion_tsne).iloc[:,1]"
   ]
  },
  {
   "cell_type": "code",
   "execution_count": 18,
   "metadata": {
    "ExecuteTime": {
     "end_time": "2019-04-29T00:45:26.426981Z",
     "start_time": "2019-04-29T00:45:26.422186Z"
    }
   },
   "outputs": [
    {
     "data": {
      "text/plain": [
       "5000"
      ]
     },
     "execution_count": 18,
     "metadata": {},
     "output_type": "execute_result"
    }
   ],
   "source": [
    "len(x1)"
   ]
  },
  {
   "cell_type": "code",
   "execution_count": 20,
   "metadata": {
    "ExecuteTime": {
     "end_time": "2019-04-29T00:49:07.266485Z",
     "start_time": "2019-04-29T00:49:06.996520Z"
    },
    "scrolled": true
   },
   "outputs": [
    {
     "data": {
      "text/plain": [
       "<matplotlib.collections.PathCollection at 0x1a46a586d8>"
      ]
     },
     "execution_count": 20,
     "metadata": {},
     "output_type": "execute_result"
    },
    {
     "data": {
      "image/png": "[encoded data removed]",
      "text/plain": [
       "<Figure size 432x288 with 1 Axes>"
      ]
     },
     "metadata": {
      "needs_background": "light"
     },
     "output_type": "display_data"
    }
   ],
   "source": [
    "import matplotlib.pyplot as plt\n",
    "plt.scatter(x1,x2)"
   ]
  },
  {
   "cell_type": "code",
   "execution_count": null,
   "metadata": {},
   "outputs": [],
   "source": []
  },
  {
   "cell_type": "markdown",
   "metadata": {},
   "source": [
    "# Clustering"
   ]
  },
  {
   "cell_type": "markdown",
   "metadata": {},
   "source": [
    "## K-means-not preferred"
   ]
  },
  {
   "cell_type": "code",
   "execution_count": 15,
   "metadata": {
    "ExecuteTime": {
     "end_time": "2019-04-29T02:18:26.203732Z",
     "start_time": "2019-04-29T02:18:19.742807Z"
    }
   },
   "outputs": [
    {
     "data": {
      "image/png": "[encoded data removed]",
      "text/plain": [
       "<Figure size 432x288 with 1 Axes>"
      ]
     },
     "metadata": {
      "needs_background": "light"
     },
     "output_type": "display_data"
    }
   ],
   "source": [
    "from sklearn.cluster import KMeans\n",
    "## Since the lower the inertia is the better the model, we can choose the\n",
    "## n_clusters by doing the following:\n",
    "ks = range(1, 20)\n",
    "inertias = []\n",
    "\n",
    "for k in ks:\n",
    "    model = KMeans(n_clusters=k)\n",
    "    model.fit(principalComponents)#fashion_tsne   \n",
    "    #model.fit(fashion_tsne)#principalComponents    ##both indicate 10 or so\n",
    "    inertias.append(model.inertia_)\n",
    "    \n",
    "plt.plot(ks, inertias, '-o')\n",
    "plt.xlabel('number of clusters, k')\n",
    "plt.ylabel('inertia')\n",
    "plt.xticks(ks)\n",
    "plt.show()\n",
    "## We can't have too many clusters(Overfitting), so we should choose the \n",
    "## elbow of the graph,which is the point where inertia starts to decrease\n",
    "## slowly, in this case, 3 should be the n_cluster"
   ]
  },
  {
   "cell_type": "code",
   "execution_count": 16,
   "metadata": {
    "ExecuteTime": {
     "end_time": "2019-04-29T02:18:45.571965Z",
     "start_time": "2019-04-29T02:18:45.259076Z"
    }
   },
   "outputs": [
    {
     "data": {
      "text/plain": [
       "[' Location fantastic',\n",
       " ' Good location',\n",
       " ' The location',\n",
       " ' Excellent location',\n",
       " ' Location of hotel',\n",
       " ' Good location and good value',\n",
       " ' Good location ',\n",
       " ' Location was good ',\n",
       " ' good location great price',\n",
       " ' Good location',\n",
       " ' Great location',\n",
       " ' Location is excellent',\n",
       " ' Great location ',\n",
       " ' Convenient location',\n",
       " ' Perfect location',\n",
       " ' Perfect location ',\n",
       " ' Location is excellent',\n",
       " ' Top location',\n",
       " ' The location',\n",
       " ' location was good']"
      ]
     },
     "execution_count": 16,
     "metadata": {},
     "output_type": "execute_result"
    }
   ],
   "source": [
    "## fit the k-means model\n",
    "from sklearn.cluster import KMeans\n",
    "\n",
    "kmeans = KMeans(n_clusters=10)###change the number accordingly\n",
    "cluster_assignments = kmeans.fit_predict(principalComponents)\n",
    "\n",
    "samp_1=pd.DataFrame(reviews)\n",
    "samp_1['cluster']=cluster_assignments\n",
    "\n",
    "samp_1.columns=['review','cluster']\n",
    "list(samp_1[samp_1['cluster']==0]['review'].values)[:20]"
   ]
  },
  {
   "cell_type": "code",
   "execution_count": 40,
   "metadata": {
    "ExecuteTime": {
     "end_time": "2019-04-29T01:50:54.728218Z",
     "start_time": "2019-04-29T01:50:54.720246Z"
    }
   },
   "outputs": [
    {
     "data": {
      "text/html": [
       "<div>\n",
       "<style scoped>\n",
       "    .dataframe tbody tr th:only-of-type {\n",
       "        vertical-align: middle;\n",
       "    }\n",
       "\n",
       "    .dataframe tbody tr th {\n",
       "        vertical-align: top;\n",
       "    }\n",
       "\n",
       "    .dataframe thead th {\n",
       "        text-align: right;\n",
       "    }\n",
       "</style>\n",
       "<table border=\"1\" class=\"dataframe\">\n",
       "  <thead>\n",
       "    <tr style=\"text-align: right;\">\n",
       "      <th></th>\n",
       "      <th>review</th>\n",
       "      <th>cluster</th>\n",
       "    </tr>\n",
       "  </thead>\n",
       "  <tbody>\n",
       "    <tr>\n",
       "      <th>0</th>\n",
       "      <td>good customer service great location</td>\n",
       "      <td>7</td>\n",
       "    </tr>\n",
       "    <tr>\n",
       "      <th>1</th>\n",
       "      <td>The room was nice and cosy the bed and pillow...</td>\n",
       "      <td>5</td>\n",
       "    </tr>\n",
       "    <tr>\n",
       "      <th>2</th>\n",
       "      <td>excellent location good facilities in hotel</td>\n",
       "      <td>7</td>\n",
       "    </tr>\n",
       "    <tr>\n",
       "      <th>3</th>\n",
       "      <td>Staff and location were great</td>\n",
       "      <td>7</td>\n",
       "    </tr>\n",
       "    <tr>\n",
       "      <th>4</th>\n",
       "      <td>The customer service was exceptional After a ...</td>\n",
       "      <td>5</td>\n",
       "    </tr>\n",
       "  </tbody>\n",
       "</table>\n",
       "</div>"
      ],
      "text/plain": [
       "                                              review  cluster\n",
       "0               good customer service great location        7\n",
       "1   The room was nice and cosy the bed and pillow...        5\n",
       "2        excellent location good facilities in hotel        7\n",
       "3                     Staff and location were great         7\n",
       "4   The customer service was exceptional After a ...        5"
      ]
     },
     "execution_count": 40,
     "metadata": {},
     "output_type": "execute_result"
    }
   ],
   "source": [
    "samp_1.head()"
   ]
  },
  {
   "cell_type": "code",
   "execution_count": null,
   "metadata": {},
   "outputs": [],
   "source": []
  },
  {
   "cell_type": "code",
   "execution_count": 17,
   "metadata": {
    "ExecuteTime": {
     "end_time": "2019-04-29T02:19:22.696565Z",
     "start_time": "2019-04-29T02:19:02.426341Z"
    }
   },
   "outputs": [
    {
     "data": {
      "image/png": "[encoded data removed]",
      "text/plain": [
       "<Figure size 720x720 with 1 Axes>"
      ]
     },
     "metadata": {
      "needs_background": "light"
     },
     "output_type": "display_data"
    }
   ],
   "source": [
    "color_map = {\n",
    "#     0: \"r\",\n",
    "#     1: \"b\",\n",
    "#     2: \"g\",\n",
    "#     3: \"y\",\n",
    "#     4:''\n",
    "    0:'tab:blue', 1:'tab:orange', 2:'tab:green', 3:'tab:red', 4:'tab:purple', 5:'tab:brown', \n",
    "    6: 'tab:pink', 7: 'tab:gray', 8: 'tab:olive', 9:'tab:cyan'\n",
    "    \n",
    "}\n",
    "\n",
    "\n",
    "\n",
    "plt.rcParams[\"figure.figsize\"] = (10,10)\n",
    "\n",
    "for i, vector in enumerate(principalComponents):\n",
    "    x = vector[0]\n",
    "    y = vector[1]\n",
    "    plt.plot(x,y, 'bo', c=color_map[cluster_assignments[i]])\n",
    "  #  plt.text(x * (1 + 0.01), y * (1 + 0.01) , review_embedding[i], fontsize=12)"
   ]
  },
  {
   "cell_type": "markdown",
   "metadata": {},
   "source": [
    "## Hierachical clustering"
   ]
  },
  {
   "cell_type": "code",
   "execution_count": 28,
   "metadata": {
    "ExecuteTime": {
     "end_time": "2019-04-29T01:01:33.730935Z",
     "start_time": "2019-04-29T01:01:29.707875Z"
    }
   },
   "outputs": [
    {
     "name": "stdout",
     "output_type": "stream",
     "text": [
      "Collecting graphviz\n",
      "  Downloading https://files.pythonhosted.org/packages/1f/e2/ef2581b5b86625657afd32030f90cf2717456c1d2b711ba074bf007c0f1a/graphviz-0.10.1-py2.py3-none-any.whl\n",
      "Installing collected packages: graphviz\n",
      "Successfully installed graphviz-0.10.1\n"
     ]
    }
   ],
   "source": [
    "!pip install graphviz"
   ]
  },
  {
   "cell_type": "code",
   "execution_count": 32,
   "metadata": {
    "ExecuteTime": {
     "end_time": "2019-04-29T01:03:45.334423Z",
     "start_time": "2019-04-29T01:03:43.931376Z"
    }
   },
   "outputs": [
    {
     "data": {
      "image/png": "[encoded data removed]",
      "text/plain": [
       "<Figure size 720x720 with 1 Axes>"
      ]
     },
     "metadata": {
      "needs_background": "light"
     },
     "output_type": "display_data"
    }
   ],
   "source": [
    "from adspy_shared_utilities import plot_labelled_scatter\n",
    "\n",
    "from sklearn.datasets import make_blobs\n",
    "from sklearn.cluster import AgglomerativeClustering\n",
    "from adspy_shared_utilities import plot_labelled_scatter\n",
    "\n",
    "#X, y = make_blobs(random_state = 10)\n",
    "X=principalComponents\n",
    "\n",
    "cls = AgglomerativeClustering(n_clusters = 5)\n",
    "cls_assignment = cls.fit_predict(X)\n",
    "\n",
    "plot_labelled_scatter(X, cls_assignment, \n",
    "        ['Cluster 1', 'Cluster 2', 'Cluster 3','Cluster 4'])"
   ]
  },
  {
   "cell_type": "code",
   "execution_count": 33,
   "metadata": {
    "ExecuteTime": {
     "end_time": "2019-04-29T01:04:47.760892Z",
     "start_time": "2019-04-29T01:04:08.451293Z"
    },
    "scrolled": true
   },
   "outputs": [
    {
     "data": {
      "image/png": "[encoded data removed]",
      "text/plain": [
       "<Figure size 720x720 with 1 Axes>"
      ]
     },
     "metadata": {
      "needs_background": "light"
     },
     "output_type": "display_data"
    }
   ],
   "source": [
    "from scipy.cluster.hierarchy import ward, dendrogram\n",
    "plt.figure()\n",
    "dendrogram(ward(X))\n",
    "plt.show()"
   ]
  },
  {
   "cell_type": "code",
   "execution_count": null,
   "metadata": {},
   "outputs": [],
   "source": [
    "### 17-20 clusterd from the dendrogram?"
   ]
  },
  {
   "cell_type": "markdown",
   "metadata": {},
   "source": [
    "# Group Demo Statistics"
   ]
  },
  {
   "cell_type": "code",
   "execution_count": 18,
   "metadata": {
    "ExecuteTime": {
     "end_time": "2019-04-29T02:23:09.272160Z",
     "start_time": "2019-04-29T02:23:09.261267Z"
    }
   },
   "outputs": [
    {
     "data": {
      "text/html": [
       "<div>\n",
       "<style scoped>\n",
       "    .dataframe tbody tr th:only-of-type {\n",
       "        vertical-align: middle;\n",
       "    }\n",
       "\n",
       "    .dataframe tbody tr th {\n",
       "        vertical-align: top;\n",
       "    }\n",
       "\n",
       "    .dataframe thead th {\n",
       "        text-align: right;\n",
       "    }\n",
       "</style>\n",
       "<table border=\"1\" class=\"dataframe\">\n",
       "  <thead>\n",
       "    <tr style=\"text-align: right;\">\n",
       "      <th></th>\n",
       "      <th>review</th>\n",
       "      <th>cluster</th>\n",
       "    </tr>\n",
       "  </thead>\n",
       "  <tbody>\n",
       "    <tr>\n",
       "      <th>0</th>\n",
       "      <td>Nothing was too much trouble The staff were a...</td>\n",
       "      <td>5</td>\n",
       "    </tr>\n",
       "    <tr>\n",
       "      <th>1</th>\n",
       "      <td>I loved there shower It felt like you were un...</td>\n",
       "      <td>5</td>\n",
       "    </tr>\n",
       "    <tr>\n",
       "      <th>2</th>\n",
       "      <td>beds really comfy and the location is great a...</td>\n",
       "      <td>1</td>\n",
       "    </tr>\n",
       "    <tr>\n",
       "      <th>3</th>\n",
       "      <td>Really nice hotel good facilities great staff...</td>\n",
       "      <td>5</td>\n",
       "    </tr>\n",
       "    <tr>\n",
       "      <th>4</th>\n",
       "      <td>Everything is super And room and design Very ...</td>\n",
       "      <td>1</td>\n",
       "    </tr>\n",
       "  </tbody>\n",
       "</table>\n",
       "</div>"
      ],
      "text/plain": [
       "                                              review  cluster\n",
       "0   Nothing was too much trouble The staff were a...        5\n",
       "1   I loved there shower It felt like you were un...        5\n",
       "2   beds really comfy and the location is great a...        1\n",
       "3   Really nice hotel good facilities great staff...        5\n",
       "4   Everything is super And room and design Very ...        1"
      ]
     },
     "execution_count": 18,
     "metadata": {},
     "output_type": "execute_result"
    }
   ],
   "source": [
    "samp_1.head()"
   ]
  },
  {
   "cell_type": "code",
   "execution_count": 32,
   "metadata": {
    "ExecuteTime": {
     "end_time": "2019-04-29T02:31:35.355721Z",
     "start_time": "2019-04-29T02:31:35.351187Z"
    }
   },
   "outputs": [],
   "source": [
    "sample_df['cluster']=samp_1['cluster'].values"
   ]
  },
  {
   "cell_type": "code",
   "execution_count": 34,
   "metadata": {
    "ExecuteTime": {
     "end_time": "2019-04-29T02:31:59.425211Z",
     "start_time": "2019-04-29T02:31:59.411381Z"
    }
   },
   "outputs": [
    {
     "data": {
      "text/html": [
       "<div>\n",
       "<style scoped>\n",
       "    .dataframe tbody tr th:only-of-type {\n",
       "        vertical-align: middle;\n",
       "    }\n",
       "\n",
       "    .dataframe tbody tr th {\n",
       "        vertical-align: top;\n",
       "    }\n",
       "\n",
       "    .dataframe thead th {\n",
       "        text-align: right;\n",
       "    }\n",
       "</style>\n",
       "<table border=\"1\" class=\"dataframe\">\n",
       "  <thead>\n",
       "    <tr style=\"text-align: right;\">\n",
       "      <th></th>\n",
       "      <th>356054</th>\n",
       "      <th>395957</th>\n",
       "      <th>468352</th>\n",
       "      <th>281462</th>\n",
       "      <th>498978</th>\n",
       "    </tr>\n",
       "  </thead>\n",
       "  <tbody>\n",
       "    <tr>\n",
       "      <th>Hotel_Address</th>\n",
       "      <td>Keizersgracht 148 Amsterdam City Center 1015 C...</td>\n",
       "      <td>Park Lane Westminster Borough London W1K 7TN U...</td>\n",
       "      <td>Ungargasse 60 03 Landstra e 1030 Vienna Austria</td>\n",
       "      <td>Avinguda Icaria 195 Sant Mart 08005 Barcelona ...</td>\n",
       "      <td>Vilamari 34 36 Eixample 08015 Barcelona Spain</td>\n",
       "    </tr>\n",
       "    <tr>\n",
       "      <th>Additional_Number_of_Scoring</th>\n",
       "      <td>85</td>\n",
       "      <td>184</td>\n",
       "      <td>116</td>\n",
       "      <td>439</td>\n",
       "      <td>113</td>\n",
       "    </tr>\n",
       "    <tr>\n",
       "      <th>Review_Date</th>\n",
       "      <td>11/29/2015</td>\n",
       "      <td>2/17/2017</td>\n",
       "      <td>2/13/2017</td>\n",
       "      <td>3/25/2017</td>\n",
       "      <td>9/20/2015</td>\n",
       "    </tr>\n",
       "    <tr>\n",
       "      <th>Average_Score</th>\n",
       "      <td>9.3</td>\n",
       "      <td>7.9</td>\n",
       "      <td>8.1</td>\n",
       "      <td>8</td>\n",
       "      <td>8.3</td>\n",
       "    </tr>\n",
       "    <tr>\n",
       "      <th>Hotel_Name</th>\n",
       "      <td>Canal House</td>\n",
       "      <td>Grosvenor House A JW Marriott Hotel</td>\n",
       "      <td>Imperial Riding School Renaissance Vienna Hotel</td>\n",
       "      <td>Hotel SB Icaria Barcelona</td>\n",
       "      <td>Hotel Vilamar</td>\n",
       "    </tr>\n",
       "    <tr>\n",
       "      <th>Reviewer_Nationality</th>\n",
       "      <td>United Kingdom</td>\n",
       "      <td>United States of America</td>\n",
       "      <td>Lithuania</td>\n",
       "      <td>United Kingdom</td>\n",
       "      <td>Cyprus</td>\n",
       "    </tr>\n",
       "    <tr>\n",
       "      <th>Negative_Review</th>\n",
       "      <td>No Negative</td>\n",
       "      <td>I had a Junior suite The bed was only a queen...</td>\n",
       "      <td>staff could be less rude the pool area is hor...</td>\n",
       "      <td>No Negative</td>\n",
       "      <td>No Negative</td>\n",
       "    </tr>\n",
       "    <tr>\n",
       "      <th>Review_Total_Negative_Word_Counts</th>\n",
       "      <td>0</td>\n",
       "      <td>21</td>\n",
       "      <td>12</td>\n",
       "      <td>0</td>\n",
       "      <td>0</td>\n",
       "    </tr>\n",
       "    <tr>\n",
       "      <th>Total_Number_of_Reviews</th>\n",
       "      <td>491</td>\n",
       "      <td>564</td>\n",
       "      <td>1395</td>\n",
       "      <td>3633</td>\n",
       "      <td>1127</td>\n",
       "    </tr>\n",
       "    <tr>\n",
       "      <th>Positive_Review</th>\n",
       "      <td>Nothing was too much trouble The staff were a...</td>\n",
       "      <td>I loved there shower It felt like you were un...</td>\n",
       "      <td>beds really comfy and the location is great a...</td>\n",
       "      <td>Really nice hotel good facilities great staff...</td>\n",
       "      <td>Everything is super And room and design Very ...</td>\n",
       "    </tr>\n",
       "    <tr>\n",
       "      <th>Review_Total_Positive_Word_Counts</th>\n",
       "      <td>23</td>\n",
       "      <td>17</td>\n",
       "      <td>16</td>\n",
       "      <td>24</td>\n",
       "      <td>12</td>\n",
       "    </tr>\n",
       "    <tr>\n",
       "      <th>Total_Number_of_Reviews_Reviewer_Has_Given</th>\n",
       "      <td>2</td>\n",
       "      <td>5</td>\n",
       "      <td>1</td>\n",
       "      <td>1</td>\n",
       "      <td>5</td>\n",
       "    </tr>\n",
       "    <tr>\n",
       "      <th>Reviewer_Score</th>\n",
       "      <td>10</td>\n",
       "      <td>10</td>\n",
       "      <td>6.7</td>\n",
       "      <td>9.6</td>\n",
       "      <td>10</td>\n",
       "    </tr>\n",
       "    <tr>\n",
       "      <th>Tags</th>\n",
       "      <td>[' Leisure trip ', ' Couple ', ' Deluxe Double...</td>\n",
       "      <td>[' Leisure trip ', ' Couple ', ' Deluxe Suite ...</td>\n",
       "      <td>[' Business trip ', ' Couple ', ' Double or Tw...</td>\n",
       "      <td>[' Leisure trip ', ' Family with young childre...</td>\n",
       "      <td>[' Business trip ', ' Couple ', ' Interior Fac...</td>\n",
       "    </tr>\n",
       "    <tr>\n",
       "      <th>days_since_review</th>\n",
       "      <td>613 day</td>\n",
       "      <td>167 day</td>\n",
       "      <td>171 day</td>\n",
       "      <td>131 day</td>\n",
       "      <td>683 day</td>\n",
       "    </tr>\n",
       "    <tr>\n",
       "      <th>lat</th>\n",
       "      <td>52.3763</td>\n",
       "      <td>51.5082</td>\n",
       "      <td>48.1966</td>\n",
       "      <td>41.3936</td>\n",
       "      <td>41.3767</td>\n",
       "    </tr>\n",
       "    <tr>\n",
       "      <th>lng</th>\n",
       "      <td>4.88627</td>\n",
       "      <td>-0.154559</td>\n",
       "      <td>16.3864</td>\n",
       "      <td>2.19939</td>\n",
       "      <td>2.15245</td>\n",
       "    </tr>\n",
       "    <tr>\n",
       "      <th>cluster</th>\n",
       "      <td>5</td>\n",
       "      <td>5</td>\n",
       "      <td>1</td>\n",
       "      <td>5</td>\n",
       "      <td>1</td>\n",
       "    </tr>\n",
       "  </tbody>\n",
       "</table>\n",
       "</div>"
      ],
      "text/plain": [
       "                                                                                       356054  \\\n",
       "Hotel_Address                               Keizersgracht 148 Amsterdam City Center 1015 C...   \n",
       "Additional_Number_of_Scoring                                                               85   \n",
       "Review_Date                                                                        11/29/2015   \n",
       "Average_Score                                                                             9.3   \n",
       "Hotel_Name                                                                        Canal House   \n",
       "Reviewer_Nationality                                                          United Kingdom    \n",
       "Negative_Review                                                                   No Negative   \n",
       "Review_Total_Negative_Word_Counts                                                           0   \n",
       "Total_Number_of_Reviews                                                                   491   \n",
       "Positive_Review                              Nothing was too much trouble The staff were a...   \n",
       "Review_Total_Positive_Word_Counts                                                          23   \n",
       "Total_Number_of_Reviews_Reviewer_Has_Given                                                  2   \n",
       "Reviewer_Score                                                                             10   \n",
       "Tags                                        [' Leisure trip ', ' Couple ', ' Deluxe Double...   \n",
       "days_since_review                                                                     613 day   \n",
       "lat                                                                                   52.3763   \n",
       "lng                                                                                   4.88627   \n",
       "cluster                                                                                     5   \n",
       "\n",
       "                                                                                       395957  \\\n",
       "Hotel_Address                               Park Lane Westminster Borough London W1K 7TN U...   \n",
       "Additional_Number_of_Scoring                                                              184   \n",
       "Review_Date                                                                         2/17/2017   \n",
       "Average_Score                                                                             7.9   \n",
       "Hotel_Name                                                Grosvenor House A JW Marriott Hotel   \n",
       "Reviewer_Nationality                                                United States of America    \n",
       "Negative_Review                              I had a Junior suite The bed was only a queen...   \n",
       "Review_Total_Negative_Word_Counts                                                          21   \n",
       "Total_Number_of_Reviews                                                                   564   \n",
       "Positive_Review                              I loved there shower It felt like you were un...   \n",
       "Review_Total_Positive_Word_Counts                                                          17   \n",
       "Total_Number_of_Reviews_Reviewer_Has_Given                                                  5   \n",
       "Reviewer_Score                                                                             10   \n",
       "Tags                                        [' Leisure trip ', ' Couple ', ' Deluxe Suite ...   \n",
       "days_since_review                                                                     167 day   \n",
       "lat                                                                                   51.5082   \n",
       "lng                                                                                 -0.154559   \n",
       "cluster                                                                                     5   \n",
       "\n",
       "                                                                                       468352  \\\n",
       "Hotel_Address                                 Ungargasse 60 03 Landstra e 1030 Vienna Austria   \n",
       "Additional_Number_of_Scoring                                                              116   \n",
       "Review_Date                                                                         2/13/2017   \n",
       "Average_Score                                                                             8.1   \n",
       "Hotel_Name                                    Imperial Riding School Renaissance Vienna Hotel   \n",
       "Reviewer_Nationality                                                               Lithuania    \n",
       "Negative_Review                              staff could be less rude the pool area is hor...   \n",
       "Review_Total_Negative_Word_Counts                                                          12   \n",
       "Total_Number_of_Reviews                                                                  1395   \n",
       "Positive_Review                              beds really comfy and the location is great a...   \n",
       "Review_Total_Positive_Word_Counts                                                          16   \n",
       "Total_Number_of_Reviews_Reviewer_Has_Given                                                  1   \n",
       "Reviewer_Score                                                                            6.7   \n",
       "Tags                                        [' Business trip ', ' Couple ', ' Double or Tw...   \n",
       "days_since_review                                                                     171 day   \n",
       "lat                                                                                   48.1966   \n",
       "lng                                                                                   16.3864   \n",
       "cluster                                                                                     1   \n",
       "\n",
       "                                                                                       281462  \\\n",
       "Hotel_Address                               Avinguda Icaria 195 Sant Mart 08005 Barcelona ...   \n",
       "Additional_Number_of_Scoring                                                              439   \n",
       "Review_Date                                                                         3/25/2017   \n",
       "Average_Score                                                                               8   \n",
       "Hotel_Name                                                          Hotel SB Icaria Barcelona   \n",
       "Reviewer_Nationality                                                          United Kingdom    \n",
       "Negative_Review                                                                   No Negative   \n",
       "Review_Total_Negative_Word_Counts                                                           0   \n",
       "Total_Number_of_Reviews                                                                  3633   \n",
       "Positive_Review                              Really nice hotel good facilities great staff...   \n",
       "Review_Total_Positive_Word_Counts                                                          24   \n",
       "Total_Number_of_Reviews_Reviewer_Has_Given                                                  1   \n",
       "Reviewer_Score                                                                            9.6   \n",
       "Tags                                        [' Leisure trip ', ' Family with young childre...   \n",
       "days_since_review                                                                     131 day   \n",
       "lat                                                                                   41.3936   \n",
       "lng                                                                                   2.19939   \n",
       "cluster                                                                                     5   \n",
       "\n",
       "                                                                                       498978  \n",
       "Hotel_Address                                   Vilamari 34 36 Eixample 08015 Barcelona Spain  \n",
       "Additional_Number_of_Scoring                                                              113  \n",
       "Review_Date                                                                         9/20/2015  \n",
       "Average_Score                                                                             8.3  \n",
       "Hotel_Name                                                                     Hotel Vilamar   \n",
       "Reviewer_Nationality                                                                  Cyprus   \n",
       "Negative_Review                                                                   No Negative  \n",
       "Review_Total_Negative_Word_Counts                                                           0  \n",
       "Total_Number_of_Reviews                                                                  1127  \n",
       "Positive_Review                              Everything is super And room and design Very ...  \n",
       "Review_Total_Positive_Word_Counts                                                          12  \n",
       "Total_Number_of_Reviews_Reviewer_Has_Given                                                  5  \n",
       "Reviewer_Score                                                                             10  \n",
       "Tags                                        [' Business trip ', ' Couple ', ' Interior Fac...  \n",
       "days_since_review                                                                     683 day  \n",
       "lat                                                                                   41.3767  \n",
       "lng                                                                                   2.15245  \n",
       "cluster                                                                                     1  "
      ]
     },
     "execution_count": 34,
     "metadata": {},
     "output_type": "execute_result"
    }
   ],
   "source": [
    "sample_df.head().T"
   ]
  },
  {
   "cell_type": "code",
   "execution_count": 35,
   "metadata": {
    "ExecuteTime": {
     "end_time": "2019-04-29T02:32:46.845531Z",
     "start_time": "2019-04-29T02:32:46.656664Z"
    }
   },
   "outputs": [],
   "source": [
    "sample_df.to_csv('ten_clusters.csv')"
   ]
  },
  {
   "cell_type": "markdown",
   "metadata": {},
   "source": [
    "# QUALITY PREFERENCE FILTER APPROACH"
   ]
  },
  {
   "cell_type": "code",
   "execution_count": 2,
   "metadata": {
    "ExecuteTime": {
     "end_time": "2019-04-30T16:48:18.862064Z",
     "start_time": "2019-04-30T16:48:17.031187Z"
    }
   },
   "outputs": [],
   "source": [
    "import pandas as pd \n",
    "import numpy as np\n",
    "import sklearn\n",
    "import random\n",
    "import nltk\n",
    "from sklearn.feature_extraction.text import CountVectorizer\n",
    "from sklearn.metrics.pairwise import cosine_similarity\n",
    "from nltk.stem.porter import PorterStemmer\n",
    "from sklearn.feature_extraction.text import TfidfVectorizer\n",
    "from nltk.corpus import stopwords"
   ]
  },
  {
   "cell_type": "code",
   "execution_count": 3,
   "metadata": {
    "ExecuteTime": {
     "end_time": "2019-04-30T16:48:22.851891Z",
     "start_time": "2019-04-30T16:48:18.864956Z"
    },
    "scrolled": true
   },
   "outputs": [
    {
     "data": {
      "text/html": [
       "<div>\n",
       "<style scoped>\n",
       "    .dataframe tbody tr th:only-of-type {\n",
       "        vertical-align: middle;\n",
       "    }\n",
       "\n",
       "    .dataframe tbody tr th {\n",
       "        vertical-align: top;\n",
       "    }\n",
       "\n",
       "    .dataframe thead th {\n",
       "        text-align: right;\n",
       "    }\n",
       "</style>\n",
       "<table border=\"1\" class=\"dataframe\">\n",
       "  <thead>\n",
       "    <tr style=\"text-align: right;\">\n",
       "      <th></th>\n",
       "      <th>Hotel_Address</th>\n",
       "      <th>Additional_Number_of_Scoring</th>\n",
       "      <th>Review_Date</th>\n",
       "      <th>Average_Score</th>\n",
       "      <th>Hotel_Name</th>\n",
       "      <th>Reviewer_Nationality</th>\n",
       "      <th>Negative_Review</th>\n",
       "      <th>Review_Total_Negative_Word_Counts</th>\n",
       "      <th>Total_Number_of_Reviews</th>\n",
       "      <th>Positive_Review</th>\n",
       "      <th>Review_Total_Positive_Word_Counts</th>\n",
       "      <th>Total_Number_of_Reviews_Reviewer_Has_Given</th>\n",
       "      <th>Reviewer_Score</th>\n",
       "      <th>Tags</th>\n",
       "      <th>days_since_review</th>\n",
       "      <th>lat</th>\n",
       "      <th>lng</th>\n",
       "    </tr>\n",
       "  </thead>\n",
       "  <tbody>\n",
       "    <tr>\n",
       "      <th>0</th>\n",
       "      <td>s Gravesandestraat 55 Oost 1092 AA Amsterdam ...</td>\n",
       "      <td>194</td>\n",
       "      <td>8/3/2017</td>\n",
       "      <td>7.7</td>\n",
       "      <td>Hotel Arena</td>\n",
       "      <td>Russia</td>\n",
       "      <td>I am so angry that i made this post available...</td>\n",
       "      <td>397</td>\n",
       "      <td>1403</td>\n",
       "      <td>Only the park outside of the hotel was beauti...</td>\n",
       "      <td>11</td>\n",
       "      <td>7</td>\n",
       "      <td>2.9</td>\n",
       "      <td>[' Leisure trip ', ' Couple ', ' Duplex Double...</td>\n",
       "      <td>0 days</td>\n",
       "      <td>52.360576</td>\n",
       "      <td>4.915968</td>\n",
       "    </tr>\n",
       "    <tr>\n",
       "      <th>1</th>\n",
       "      <td>s Gravesandestraat 55 Oost 1092 AA Amsterdam ...</td>\n",
       "      <td>194</td>\n",
       "      <td>8/3/2017</td>\n",
       "      <td>7.7</td>\n",
       "      <td>Hotel Arena</td>\n",
       "      <td>Ireland</td>\n",
       "      <td>No Negative</td>\n",
       "      <td>0</td>\n",
       "      <td>1403</td>\n",
       "      <td>No real complaints the hotel was great great ...</td>\n",
       "      <td>105</td>\n",
       "      <td>7</td>\n",
       "      <td>7.5</td>\n",
       "      <td>[' Leisure trip ', ' Couple ', ' Duplex Double...</td>\n",
       "      <td>0 days</td>\n",
       "      <td>52.360576</td>\n",
       "      <td>4.915968</td>\n",
       "    </tr>\n",
       "    <tr>\n",
       "      <th>2</th>\n",
       "      <td>s Gravesandestraat 55 Oost 1092 AA Amsterdam ...</td>\n",
       "      <td>194</td>\n",
       "      <td>7/31/2017</td>\n",
       "      <td>7.7</td>\n",
       "      <td>Hotel Arena</td>\n",
       "      <td>Australia</td>\n",
       "      <td>Rooms are nice but for elderly a bit difficul...</td>\n",
       "      <td>42</td>\n",
       "      <td>1403</td>\n",
       "      <td>Location was good and staff were ok It is cut...</td>\n",
       "      <td>21</td>\n",
       "      <td>9</td>\n",
       "      <td>7.1</td>\n",
       "      <td>[' Leisure trip ', ' Family with young childre...</td>\n",
       "      <td>3 days</td>\n",
       "      <td>52.360576</td>\n",
       "      <td>4.915968</td>\n",
       "    </tr>\n",
       "    <tr>\n",
       "      <th>3</th>\n",
       "      <td>s Gravesandestraat 55 Oost 1092 AA Amsterdam ...</td>\n",
       "      <td>194</td>\n",
       "      <td>7/31/2017</td>\n",
       "      <td>7.7</td>\n",
       "      <td>Hotel Arena</td>\n",
       "      <td>United Kingdom</td>\n",
       "      <td>My room was dirty and I was afraid to walk ba...</td>\n",
       "      <td>210</td>\n",
       "      <td>1403</td>\n",
       "      <td>Great location in nice surroundings the bar a...</td>\n",
       "      <td>26</td>\n",
       "      <td>1</td>\n",
       "      <td>3.8</td>\n",
       "      <td>[' Leisure trip ', ' Solo traveler ', ' Duplex...</td>\n",
       "      <td>3 days</td>\n",
       "      <td>52.360576</td>\n",
       "      <td>4.915968</td>\n",
       "    </tr>\n",
       "    <tr>\n",
       "      <th>4</th>\n",
       "      <td>s Gravesandestraat 55 Oost 1092 AA Amsterdam ...</td>\n",
       "      <td>194</td>\n",
       "      <td>7/24/2017</td>\n",
       "      <td>7.7</td>\n",
       "      <td>Hotel Arena</td>\n",
       "      <td>New Zealand</td>\n",
       "      <td>You When I booked with your company on line y...</td>\n",
       "      <td>140</td>\n",
       "      <td>1403</td>\n",
       "      <td>Amazing location and building Romantic setting</td>\n",
       "      <td>8</td>\n",
       "      <td>3</td>\n",
       "      <td>6.7</td>\n",
       "      <td>[' Leisure trip ', ' Couple ', ' Suite ', ' St...</td>\n",
       "      <td>10 days</td>\n",
       "      <td>52.360576</td>\n",
       "      <td>4.915968</td>\n",
       "    </tr>\n",
       "  </tbody>\n",
       "</table>\n",
       "</div>"
      ],
      "text/plain": [
       "                                       Hotel_Address  \\\n",
       "0   s Gravesandestraat 55 Oost 1092 AA Amsterdam ...   \n",
       "1   s Gravesandestraat 55 Oost 1092 AA Amsterdam ...   \n",
       "2   s Gravesandestraat 55 Oost 1092 AA Amsterdam ...   \n",
       "3   s Gravesandestraat 55 Oost 1092 AA Amsterdam ...   \n",
       "4   s Gravesandestraat 55 Oost 1092 AA Amsterdam ...   \n",
       "\n",
       "   Additional_Number_of_Scoring Review_Date  Average_Score   Hotel_Name  \\\n",
       "0                           194    8/3/2017            7.7  Hotel Arena   \n",
       "1                           194    8/3/2017            7.7  Hotel Arena   \n",
       "2                           194   7/31/2017            7.7  Hotel Arena   \n",
       "3                           194   7/31/2017            7.7  Hotel Arena   \n",
       "4                           194   7/24/2017            7.7  Hotel Arena   \n",
       "\n",
       "  Reviewer_Nationality                                    Negative_Review  \\\n",
       "0              Russia    I am so angry that i made this post available...   \n",
       "1             Ireland                                         No Negative   \n",
       "2           Australia    Rooms are nice but for elderly a bit difficul...   \n",
       "3      United Kingdom    My room was dirty and I was afraid to walk ba...   \n",
       "4         New Zealand    You When I booked with your company on line y...   \n",
       "\n",
       "   Review_Total_Negative_Word_Counts  Total_Number_of_Reviews  \\\n",
       "0                                397                     1403   \n",
       "1                                  0                     1403   \n",
       "2                                 42                     1403   \n",
       "3                                210                     1403   \n",
       "4                                140                     1403   \n",
       "\n",
       "                                     Positive_Review  \\\n",
       "0   Only the park outside of the hotel was beauti...   \n",
       "1   No real complaints the hotel was great great ...   \n",
       "2   Location was good and staff were ok It is cut...   \n",
       "3   Great location in nice surroundings the bar a...   \n",
       "4    Amazing location and building Romantic setting    \n",
       "\n",
       "   Review_Total_Positive_Word_Counts  \\\n",
       "0                                 11   \n",
       "1                                105   \n",
       "2                                 21   \n",
       "3                                 26   \n",
       "4                                  8   \n",
       "\n",
       "   Total_Number_of_Reviews_Reviewer_Has_Given  Reviewer_Score  \\\n",
       "0                                           7             2.9   \n",
       "1                                           7             7.5   \n",
       "2                                           9             7.1   \n",
       "3                                           1             3.8   \n",
       "4                                           3             6.7   \n",
       "\n",
       "                                                Tags days_since_review  \\\n",
       "0  [' Leisure trip ', ' Couple ', ' Duplex Double...            0 days   \n",
       "1  [' Leisure trip ', ' Couple ', ' Duplex Double...            0 days   \n",
       "2  [' Leisure trip ', ' Family with young childre...            3 days   \n",
       "3  [' Leisure trip ', ' Solo traveler ', ' Duplex...            3 days   \n",
       "4  [' Leisure trip ', ' Couple ', ' Suite ', ' St...           10 days   \n",
       "\n",
       "         lat       lng  \n",
       "0  52.360576  4.915968  \n",
       "1  52.360576  4.915968  \n",
       "2  52.360576  4.915968  \n",
       "3  52.360576  4.915968  \n",
       "4  52.360576  4.915968  "
      ]
     },
     "execution_count": 3,
     "metadata": {},
     "output_type": "execute_result"
    }
   ],
   "source": [
    "data=pd.read_csv('Hotel_Reviews.csv', encoding='utf-8')\n",
    "data.head()"
   ]
  },
  {
   "cell_type": "markdown",
   "metadata": {},
   "source": [
    "# processing tags"
   ]
  },
  {
   "cell_type": "code",
   "execution_count": 4,
   "metadata": {
    "ExecuteTime": {
     "end_time": "2019-04-30T16:48:24.918383Z",
     "start_time": "2019-04-30T16:48:22.854633Z"
    }
   },
   "outputs": [],
   "source": [
    "tag = data.Tags.str.extract(r'\\[(.+)\\]').iloc[:,0].str.split(',')"
   ]
  },
  {
   "cell_type": "code",
   "execution_count": 5,
   "metadata": {
    "ExecuteTime": {
     "end_time": "2019-04-30T16:48:24.935388Z",
     "start_time": "2019-04-30T16:48:24.922052Z"
    }
   },
   "outputs": [
    {
     "data": {
      "text/plain": [
       "0         [' Leisure trip ',  ' Couple ',  ' Duplex Doub...\n",
       "1         [' Leisure trip ',  ' Couple ',  ' Duplex Doub...\n",
       "2         [' Leisure trip ',  ' Family with young childr...\n",
       "3         [' Leisure trip ',  ' Solo traveler ',  ' Dupl...\n",
       "4         [' Leisure trip ',  ' Couple ',  ' Suite ',  '...\n",
       "5         [' Leisure trip ',  ' Group ',  ' Duplex Doubl...\n",
       "6         [' Leisure trip ',  ' Group ',  ' Duplex Twin ...\n",
       "7         [' Leisure trip ',  ' Couple ',  ' Duplex Doub...\n",
       "8         [' Leisure trip ',  ' Couple ',  ' Duplex Doub...\n",
       "9         [' Leisure trip ',  ' Couple ',  ' Large King ...\n",
       "10        [' Leisure trip ',  ' Group ',  ' Duplex Doubl...\n",
       "11        [' Business trip ',  ' Solo traveler ',  ' Dup...\n",
       "12        [' Leisure trip ',  ' Solo traveler ',  ' Dupl...\n",
       "13        [' Business trip ',  ' Solo traveler ',  ' Dup...\n",
       "14        [' Leisure trip ',  ' Family with young childr...\n",
       "15        [' Leisure trip ',  ' Couple ',  ' Duplex Doub...\n",
       "16        [' Leisure trip ',  ' Family with young childr...\n",
       "17        [' Leisure trip ',  ' Couple ',  ' Duplex Doub...\n",
       "18        [' Business trip ',  ' Group ',  ' Duplex Doub...\n",
       "19        [' Leisure trip ',  ' Couple ',  ' Duplex Doub...\n",
       "20        [' Leisure trip ',  ' Travelers with friends '...\n",
       "21        [' Couple ',  ' Duplex Double Room ',  ' Staye...\n",
       "22        [' Leisure trip ',  ' Family with young childr...\n",
       "23        [' Leisure trip ',  ' Couple ',  ' Duplex Doub...\n",
       "24        [' Leisure trip ',  ' Couple ',  ' Duplex Doub...\n",
       "25        [' Leisure trip ',  ' Couple ',  ' Duplex Doub...\n",
       "26        [' Leisure trip ',  ' Group ',  ' Duplex Doubl...\n",
       "27        [' Business trip ',  ' Solo traveler ',  ' Dup...\n",
       "28        [' Leisure trip ',  ' Couple ',  ' Duplex Doub...\n",
       "29        [' Leisure trip ',  ' Couple ',  ' Duplex Doub...\n",
       "                                ...                        \n",
       "515708    [' Leisure trip ',  ' Family with older childr...\n",
       "515709    [' Leisure trip ',  ' Couple ',  ' Standard Do...\n",
       "515710    [' Group ',  ' Standard Double or Twin Room ',...\n",
       "515711    [' Leisure trip ',  ' Couple ',  ' Standard Do...\n",
       "515712    [' Leisure trip ',  ' Couple ',  ' Standard Do...\n",
       "515713    [' Leisure trip ',  ' Family with young childr...\n",
       "515714    [' Leisure trip ',  ' Family with older childr...\n",
       "515715    [' Leisure trip ',  ' Group ',  ' Standard Dou...\n",
       "515716    [' Leisure trip ',  ' Couple ',  ' Standard Do...\n",
       "515717    [' Leisure trip ',  ' Family with young childr...\n",
       "515718    [' Leisure trip ',  ' Group ',  ' Standard Tri...\n",
       "515719    [' Leisure trip ',  ' Couple ',  ' Standard Do...\n",
       "515720    [' Leisure trip ',  ' Group ',  ' Family Room ...\n",
       "515721    [' Leisure trip ',  ' Solo traveler ',  ' Supe...\n",
       "515722    [' Business trip ',  ' Solo traveler ',  ' Sta...\n",
       "515723    [' Leisure trip ',  ' Group ',  ' Standard Tri...\n",
       "515724    [' Leisure trip ',  ' Family with young childr...\n",
       "515725    [' Business trip ',  ' Solo traveler ',  ' Sup...\n",
       "515726    [' Business trip ',  ' Couple ',  ' Standard D...\n",
       "515727    [' Leisure trip ',  ' Couple ',  ' Standard Do...\n",
       "515728    [' Leisure trip ',  ' Couple ',  ' Standard Do...\n",
       "515729    [' Leisure trip ',  ' Couple ',  ' Standard Do...\n",
       "515730    [' Leisure trip ',  ' Family with young childr...\n",
       "515731    [' Business trip ',  ' Solo traveler ',  ' Sta...\n",
       "515732    [' Leisure trip ',  ' Family with young childr...\n",
       "515733    [' Leisure trip ',  ' Family with older childr...\n",
       "515734    [' Leisure trip ',  ' Family with young childr...\n",
       "515735    [' Leisure trip ',  ' Family with older childr...\n",
       "515736    [' Leisure trip ',  ' Group ',  ' Standard Tri...\n",
       "515737    [' Leisure trip ',  ' Family with young childr...\n",
       "Name: 0, Length: 515738, dtype: object"
      ]
     },
     "execution_count": 5,
     "metadata": {},
     "output_type": "execute_result"
    }
   ],
   "source": [
    "tag"
   ]
  },
  {
   "cell_type": "code",
   "execution_count": 6,
   "metadata": {
    "ExecuteTime": {
     "end_time": "2019-04-30T16:48:32.793903Z",
     "start_time": "2019-04-30T16:48:24.938627Z"
    }
   },
   "outputs": [],
   "source": [
    "tag1 = [list(map(lambda x:x[2:-2], tag[n])) for n in range(len(tag))]"
   ]
  },
  {
   "cell_type": "code",
   "execution_count": 7,
   "metadata": {
    "ExecuteTime": {
     "end_time": "2019-04-30T16:48:33.332607Z",
     "start_time": "2019-04-30T16:48:32.795734Z"
    }
   },
   "outputs": [],
   "source": [
    "tag2 = []\n",
    "for i in tag1:\n",
    "    if i[0] != 'With a pet':\n",
    "        tag2.append(['NA']+i)\n",
    "    else: tag2.append(i)"
   ]
  },
  {
   "cell_type": "code",
   "execution_count": 8,
   "metadata": {
    "ExecuteTime": {
     "end_time": "2019-04-30T16:48:33.542311Z",
     "start_time": "2019-04-30T16:48:33.334716Z"
    }
   },
   "outputs": [],
   "source": [
    "df1=pd.DataFrame(tag2)"
   ]
  },
  {
   "cell_type": "code",
   "execution_count": 9,
   "metadata": {
    "ExecuteTime": {
     "end_time": "2019-04-30T16:48:33.600250Z",
     "start_time": "2019-04-30T16:48:33.544692Z"
    }
   },
   "outputs": [
    {
     "data": {
      "text/plain": [
       "NA            514333\n",
       "With a pet      1405\n",
       "Name: 0, dtype: int64"
      ]
     },
     "execution_count": 9,
     "metadata": {},
     "output_type": "execute_result"
    }
   ],
   "source": [
    "df1.iloc[:,0].value_counts()"
   ]
  },
  {
   "cell_type": "code",
   "execution_count": 10,
   "metadata": {
    "ExecuteTime": {
     "end_time": "2019-04-30T16:48:33.672906Z",
     "start_time": "2019-04-30T16:48:33.602495Z"
    }
   },
   "outputs": [],
   "source": [
    "for i in tag2:\n",
    "    if i[1] not in ['Business trip',\"Leisure trip\"]:\n",
    "        i.insert(1,'NA')"
   ]
  },
  {
   "cell_type": "code",
   "execution_count": 11,
   "metadata": {
    "ExecuteTime": {
     "end_time": "2019-04-30T16:48:34.171838Z",
     "start_time": "2019-04-30T16:48:33.677409Z"
    }
   },
   "outputs": [
    {
     "data": {
      "text/plain": [
       "Leisure trip     416672\n",
       "Business trip     82748\n",
       "NA                16318\n",
       "Name: 1, dtype: int64"
      ]
     },
     "execution_count": 11,
     "metadata": {},
     "output_type": "execute_result"
    }
   ],
   "source": [
    "df1=pd.DataFrame(tag2)\n",
    "df1.iloc[:,1].str.strip().value_counts()"
   ]
  },
  {
   "cell_type": "code",
   "execution_count": 12,
   "metadata": {
    "ExecuteTime": {
     "end_time": "2019-04-30T16:48:34.309204Z",
     "start_time": "2019-04-30T16:48:34.173602Z"
    }
   },
   "outputs": [],
   "source": [
    "for i in tag2:\n",
    "    if i[2].strip() not in ['Couple',\"Solo traveler\",'Group','Family with young children','Family with older children','Travelers with friends']:\n",
    "        i.insert(2,'NA')"
   ]
  },
  {
   "cell_type": "code",
   "execution_count": 13,
   "metadata": {
    "ExecuteTime": {
     "end_time": "2019-04-30T16:48:34.849203Z",
     "start_time": "2019-04-30T16:48:34.311112Z"
    }
   },
   "outputs": [
    {
     "data": {
      "text/plain": [
       "Couple                        251596\n",
       "Solo traveler                 108368\n",
       "Group                          65263\n",
       "Family with young children     60809\n",
       "Family with older children     26262\n",
       "Travelers with friends          2143\n",
       "NA                              1297\n",
       "Name: 2, dtype: int64"
      ]
     },
     "execution_count": 13,
     "metadata": {},
     "output_type": "execute_result"
    }
   ],
   "source": [
    "df1=pd.DataFrame(tag2)\n",
    "df1.iloc[:,2].str.strip().value_counts()"
   ]
  },
  {
   "cell_type": "code",
   "execution_count": 14,
   "metadata": {
    "ExecuteTime": {
     "end_time": "2019-04-30T16:48:35.161229Z",
     "start_time": "2019-04-30T16:48:34.850919Z"
    }
   },
   "outputs": [],
   "source": [
    "for i in tag2:\n",
    "    if len(i)<4:\n",
    "        i.append('NA')\n",
    "    elif i[3].strip() != '2 rooms':\n",
    "        i.insert(3,'NA')"
   ]
  },
  {
   "cell_type": "code",
   "execution_count": 15,
   "metadata": {
    "ExecuteTime": {
     "end_time": "2019-04-30T16:48:35.509601Z",
     "start_time": "2019-04-30T16:48:35.163055Z"
    }
   },
   "outputs": [
    {
     "data": {
      "text/plain": [
       "NA          503396\n",
       " 2 rooms     12342\n",
       "Name: 3, dtype: int64"
      ]
     },
     "execution_count": 15,
     "metadata": {},
     "output_type": "execute_result"
    }
   ],
   "source": [
    "df1=pd.DataFrame(tag2)\n",
    "df1.iloc[:,3].value_counts()"
   ]
  },
  {
   "cell_type": "code",
   "execution_count": 16,
   "metadata": {
    "ExecuteTime": {
     "end_time": "2019-04-30T16:48:35.631444Z",
     "start_time": "2019-04-30T16:48:35.511211Z"
    }
   },
   "outputs": [],
   "source": [
    "for i in tag2:\n",
    "    if len(i)<5:\n",
    "        i.append('NA')\n",
    "    elif 'Stayed' in i[4]:\n",
    "        i.insert(4,'NA')"
   ]
  },
  {
   "cell_type": "code",
   "execution_count": 17,
   "metadata": {
    "ExecuteTime": {
     "end_time": "2019-04-30T16:48:36.014040Z",
     "start_time": "2019-04-30T16:48:35.633384Z"
    }
   },
   "outputs": [
    {
     "data": {
      "text/plain": [
       " Double Room                                                              35129\n",
       " Standard Double Room                                                     32179\n",
       " Superior Double Room                                                     31309\n",
       " Deluxe Double Room                                                       24772\n",
       " Double or Twin Room                                                      22319\n",
       " Standard Double or Twin Room                                             17448\n",
       " Classic Double Room                                                      16933\n",
       " Superior Double or Twin Room                                             13533\n",
       "NA                                                                        12427\n",
       " Standard Twin Room                                                        9729\n",
       " Single Room                                                               9658\n",
       " Twin Room                                                                 8302\n",
       " Executive Double Room                                                     6411\n",
       " Classic Double or Twin Room                                               6088\n",
       " Superior Twin Room                                                        6052\n",
       " Deluxe Double or Twin Room                                                5978\n",
       " Club Double Room                                                          5907\n",
       " Queen Room                                                                5469\n",
       " Deluxe King Room                                                          5344\n",
       " Superior Queen Room                                                       4890\n",
       " Standard Single Room                                                      4613\n",
       " Junior Suite                                                              4546\n",
       " Triple Room                                                               4480\n",
       " Superior Room                                                             4404\n",
       " Classic Room                                                              4387\n",
       " Superior King Room                                                        4238\n",
       " Standard Room                                                             4189\n",
       " Deluxe Room                                                               3955\n",
       " Standard Queen Room                                                       3527\n",
       " Double Guest Room                                                         3428\n",
       "                                                                          ...  \n",
       " Two Bedroom Suite with Private Access to Pool and Spa                        1\n",
       " Two Adjacent Superior Double Rooms                                           1\n",
       " Executive Double Room Eiffel Tower View with 1 Queensize and Sofa Bed        1\n",
       " Suite with Spa Access 4 Adults                                               1\n",
       " Luxury Single Room                                                           1\n",
       " Standard Double or Twin Room with Extra Bed                                  1\n",
       " Parisian Suite                                                               1\n",
       " Classic Double Room with Balcony                                             1\n",
       " Standard Family Suite with Two Connecting Rooms                              1\n",
       " Executive Twin Room with River View                                          1\n",
       " Couture Suite                                                                1\n",
       " Eiffel Suite with partial view                                               1\n",
       " Club Twin Room with Lounge Access                                            1\n",
       " Deluxe Suite 4 Adults                                                        1\n",
       " Townhouse Apartment                                                          1\n",
       " King Room Balcony with view on Eiffel Tower View Free Wi Fi                  1\n",
       " Superior Suite 2 Adults                                                      1\n",
       " Executive Suite 1 King                                                       1\n",
       " Easter Special Executive King Room                                           1\n",
       " Apartment Attic                                                              1\n",
       " Park Twin                                                                    1\n",
       " One Bedroom King Suite with Garden View                                      1\n",
       " Champs Elys es Prestige Junior Suite                                         1\n",
       " Corner Suite 2 Adults 1 Child                                                1\n",
       " Comfort Plus Twin Room                                                       1\n",
       " Double Standard                                                              1\n",
       " Deluxe Double Room with Hammam                                               1\n",
       " Apartement                                                                   1\n",
       " Superior Room with Sofa Bed 3 Adults                                         1\n",
       " Junior Suite with Free Bottle of Champagne                                   1\n",
       "Name: 4, Length: 2388, dtype: int64"
      ]
     },
     "execution_count": 17,
     "metadata": {},
     "output_type": "execute_result"
    }
   ],
   "source": [
    "df1=pd.DataFrame(tag2)\n",
    "df1.iloc[:,4].value_counts()"
   ]
  },
  {
   "cell_type": "code",
   "execution_count": 18,
   "metadata": {
    "ExecuteTime": {
     "end_time": "2019-04-30T16:48:36.379799Z",
     "start_time": "2019-04-30T16:48:36.015766Z"
    },
    "scrolled": true
   },
   "outputs": [
    {
     "data": {
      "text/plain": [
       " Stayed 1 night                193093\n",
       " Stayed 2 nights               133595\n",
       " Stayed 3 nights                95595\n",
       " Stayed 4 nights                47730\n",
       " Stayed 5 nights                20801\n",
       " Stayed 6 nights                 9761\n",
       " Stayed 7 nights                 7384\n",
       " Stayed 8 nights                 2499\n",
       " Stayed 9 nights                 1290\n",
       " Stayed 10 nights                 887\n",
       " Couple                           698\n",
       " Stayed 11 nights                 416\n",
       " Stayed 12 nights                 316\n",
       " Stayed 13 nights                 246\n",
       " Stayed 14 nights                 245\n",
       " Family with young children       206\n",
       " Solo traveler                    177\n",
       " Group                            129\n",
       " Stayed 15 nights                 117\n",
       " Family with older children        87\n",
       " Stayed 16 nights                  57\n",
       " Stayed 17 nights                  42\n",
       " Stayed 18 nights                  32\n",
       " Stayed 19 nights                  29\n",
       " Stayed 21 nights                  23\n",
       " Stayed 20 nights                  18\n",
       " Stayed 30 nights                  11\n",
       " Stayed 27 nights                  11\n",
       " Stayed 22 nights                  10\n",
       " Stayed 23 nights                  10\n",
       " Stayed 28 nights                   7\n",
       " Stayed 26 nights                   7\n",
       " Stayed 25 nights                   7\n",
       " Stayed 24 nights                   6\n",
       " Stayed 29 nights                   5\n",
       " Stayed 31 nights                   1\n",
       "Name: 5, dtype: int64"
      ]
     },
     "execution_count": 18,
     "metadata": {},
     "output_type": "execute_result"
    }
   ],
   "source": [
    "df1=pd.DataFrame(tag2)\n",
    "df1.iloc[:,5].value_counts()"
   ]
  },
  {
   "cell_type": "code",
   "execution_count": 19,
   "metadata": {
    "ExecuteTime": {
     "end_time": "2019-04-30T16:48:36.389673Z",
     "start_time": "2019-04-30T16:48:36.386356Z"
    }
   },
   "outputs": [],
   "source": [
    "df2 = df1.iloc[:,:7]"
   ]
  },
  {
   "cell_type": "code",
   "execution_count": 20,
   "metadata": {
    "ExecuteTime": {
     "end_time": "2019-04-30T16:48:36.400068Z",
     "start_time": "2019-04-30T16:48:36.396136Z"
    }
   },
   "outputs": [],
   "source": [
    "df2.columns = ['With_pet', 'Trip_type','Trip_with','2_rooms', 'Room_type','Number_nights','Mobile']"
   ]
  },
  {
   "cell_type": "code",
   "execution_count": 21,
   "metadata": {
    "ExecuteTime": {
     "end_time": "2019-04-30T16:48:36.407397Z",
     "start_time": "2019-04-30T16:48:36.402801Z"
    }
   },
   "outputs": [
    {
     "data": {
      "text/plain": [
       "(515738, 17)"
      ]
     },
     "execution_count": 21,
     "metadata": {},
     "output_type": "execute_result"
    }
   ],
   "source": [
    "data.shape"
   ]
  },
  {
   "cell_type": "code",
   "execution_count": 22,
   "metadata": {
    "ExecuteTime": {
     "end_time": "2019-04-30T16:48:36.423712Z",
     "start_time": "2019-04-30T16:48:36.409880Z"
    }
   },
   "outputs": [
    {
     "data": {
      "text/html": [
       "<div>\n",
       "<style scoped>\n",
       "    .dataframe tbody tr th:only-of-type {\n",
       "        vertical-align: middle;\n",
       "    }\n",
       "\n",
       "    .dataframe tbody tr th {\n",
       "        vertical-align: top;\n",
       "    }\n",
       "\n",
       "    .dataframe thead th {\n",
       "        text-align: right;\n",
       "    }\n",
       "</style>\n",
       "<table border=\"1\" class=\"dataframe\">\n",
       "  <thead>\n",
       "    <tr style=\"text-align: right;\">\n",
       "      <th></th>\n",
       "      <th>With_pet</th>\n",
       "      <th>Trip_type</th>\n",
       "      <th>Trip_with</th>\n",
       "      <th>2_rooms</th>\n",
       "      <th>Room_type</th>\n",
       "      <th>Number_nights</th>\n",
       "      <th>Mobile</th>\n",
       "    </tr>\n",
       "  </thead>\n",
       "  <tbody>\n",
       "    <tr>\n",
       "      <th>0</th>\n",
       "      <td>NA</td>\n",
       "      <td>Leisure trip</td>\n",
       "      <td>Couple</td>\n",
       "      <td>NA</td>\n",
       "      <td>Duplex Double Room</td>\n",
       "      <td>Stayed 6 nights</td>\n",
       "      <td>None</td>\n",
       "    </tr>\n",
       "    <tr>\n",
       "      <th>1</th>\n",
       "      <td>NA</td>\n",
       "      <td>Leisure trip</td>\n",
       "      <td>Couple</td>\n",
       "      <td>NA</td>\n",
       "      <td>Duplex Double Room</td>\n",
       "      <td>Stayed 4 nights</td>\n",
       "      <td>None</td>\n",
       "    </tr>\n",
       "    <tr>\n",
       "      <th>2</th>\n",
       "      <td>NA</td>\n",
       "      <td>Leisure trip</td>\n",
       "      <td>Family with young children</td>\n",
       "      <td>NA</td>\n",
       "      <td>Duplex Double Room</td>\n",
       "      <td>Stayed 3 nights</td>\n",
       "      <td>Submitted from a mobile device</td>\n",
       "    </tr>\n",
       "    <tr>\n",
       "      <th>3</th>\n",
       "      <td>NA</td>\n",
       "      <td>Leisure trip</td>\n",
       "      <td>Solo traveler</td>\n",
       "      <td>NA</td>\n",
       "      <td>Duplex Double Room</td>\n",
       "      <td>Stayed 3 nights</td>\n",
       "      <td>None</td>\n",
       "    </tr>\n",
       "    <tr>\n",
       "      <th>4</th>\n",
       "      <td>NA</td>\n",
       "      <td>Leisure trip</td>\n",
       "      <td>Couple</td>\n",
       "      <td>NA</td>\n",
       "      <td>Suite</td>\n",
       "      <td>Stayed 2 nights</td>\n",
       "      <td>Submitted from a mobile device</td>\n",
       "    </tr>\n",
       "  </tbody>\n",
       "</table>\n",
       "</div>"
      ],
      "text/plain": [
       "  With_pet     Trip_type                    Trip_with 2_rooms  \\\n",
       "0       NA  Leisure trip                       Couple      NA   \n",
       "1       NA  Leisure trip                       Couple      NA   \n",
       "2       NA  Leisure trip   Family with young children      NA   \n",
       "3       NA  Leisure trip                Solo traveler      NA   \n",
       "4       NA  Leisure trip                       Couple      NA   \n",
       "\n",
       "             Room_type     Number_nights                           Mobile  \n",
       "0   Duplex Double Room   Stayed 6 nights                             None  \n",
       "1   Duplex Double Room   Stayed 4 nights                             None  \n",
       "2   Duplex Double Room   Stayed 3 nights   Submitted from a mobile device  \n",
       "3   Duplex Double Room   Stayed 3 nights                             None  \n",
       "4                Suite   Stayed 2 nights   Submitted from a mobile device  "
      ]
     },
     "execution_count": 22,
     "metadata": {},
     "output_type": "execute_result"
    }
   ],
   "source": [
    "df2.head()"
   ]
  },
  {
   "cell_type": "code",
   "execution_count": 23,
   "metadata": {
    "ExecuteTime": {
     "end_time": "2019-04-30T16:48:36.639981Z",
     "start_time": "2019-04-30T16:48:36.426002Z"
    }
   },
   "outputs": [],
   "source": [
    "data_tag = pd.concat([data, df2], axis=1)"
   ]
  },
  {
   "cell_type": "code",
   "execution_count": 24,
   "metadata": {
    "ExecuteTime": {
     "end_time": "2019-04-30T16:48:36.646398Z",
     "start_time": "2019-04-30T16:48:36.642567Z"
    }
   },
   "outputs": [
    {
     "data": {
      "text/plain": [
       "(515738, 24)"
      ]
     },
     "execution_count": 24,
     "metadata": {},
     "output_type": "execute_result"
    }
   ],
   "source": [
    "data_tag.shape"
   ]
  },
  {
   "cell_type": "code",
   "execution_count": 25,
   "metadata": {
    "ExecuteTime": {
     "end_time": "2019-04-30T16:48:36.671955Z",
     "start_time": "2019-04-30T16:48:36.648253Z"
    }
   },
   "outputs": [
    {
     "data": {
      "text/html": [
       "<div>\n",
       "<style scoped>\n",
       "    .dataframe tbody tr th:only-of-type {\n",
       "        vertical-align: middle;\n",
       "    }\n",
       "\n",
       "    .dataframe tbody tr th {\n",
       "        vertical-align: top;\n",
       "    }\n",
       "\n",
       "    .dataframe thead th {\n",
       "        text-align: right;\n",
       "    }\n",
       "</style>\n",
       "<table border=\"1\" class=\"dataframe\">\n",
       "  <thead>\n",
       "    <tr style=\"text-align: right;\">\n",
       "      <th></th>\n",
       "      <th>Hotel_Address</th>\n",
       "      <th>Additional_Number_of_Scoring</th>\n",
       "      <th>Review_Date</th>\n",
       "      <th>Average_Score</th>\n",
       "      <th>Hotel_Name</th>\n",
       "      <th>Reviewer_Nationality</th>\n",
       "      <th>Negative_Review</th>\n",
       "      <th>Review_Total_Negative_Word_Counts</th>\n",
       "      <th>Total_Number_of_Reviews</th>\n",
       "      <th>Positive_Review</th>\n",
       "      <th>...</th>\n",
       "      <th>days_since_review</th>\n",
       "      <th>lat</th>\n",
       "      <th>lng</th>\n",
       "      <th>With_pet</th>\n",
       "      <th>Trip_type</th>\n",
       "      <th>Trip_with</th>\n",
       "      <th>2_rooms</th>\n",
       "      <th>Room_type</th>\n",
       "      <th>Number_nights</th>\n",
       "      <th>Mobile</th>\n",
       "    </tr>\n",
       "  </thead>\n",
       "  <tbody>\n",
       "    <tr>\n",
       "      <th>0</th>\n",
       "      <td>s Gravesandestraat 55 Oost 1092 AA Amsterdam ...</td>\n",
       "      <td>194</td>\n",
       "      <td>8/3/2017</td>\n",
       "      <td>7.7</td>\n",
       "      <td>Hotel Arena</td>\n",
       "      <td>Russia</td>\n",
       "      <td>I am so angry that i made this post available...</td>\n",
       "      <td>397</td>\n",
       "      <td>1403</td>\n",
       "      <td>Only the park outside of the hotel was beauti...</td>\n",
       "      <td>...</td>\n",
       "      <td>0 days</td>\n",
       "      <td>52.360576</td>\n",
       "      <td>4.915968</td>\n",
       "      <td>NA</td>\n",
       "      <td>Leisure trip</td>\n",
       "      <td>Couple</td>\n",
       "      <td>NA</td>\n",
       "      <td>Duplex Double Room</td>\n",
       "      <td>Stayed 6 nights</td>\n",
       "      <td>None</td>\n",
       "    </tr>\n",
       "    <tr>\n",
       "      <th>1</th>\n",
       "      <td>s Gravesandestraat 55 Oost 1092 AA Amsterdam ...</td>\n",
       "      <td>194</td>\n",
       "      <td>8/3/2017</td>\n",
       "      <td>7.7</td>\n",
       "      <td>Hotel Arena</td>\n",
       "      <td>Ireland</td>\n",
       "      <td>No Negative</td>\n",
       "      <td>0</td>\n",
       "      <td>1403</td>\n",
       "      <td>No real complaints the hotel was great great ...</td>\n",
       "      <td>...</td>\n",
       "      <td>0 days</td>\n",
       "      <td>52.360576</td>\n",
       "      <td>4.915968</td>\n",
       "      <td>NA</td>\n",
       "      <td>Leisure trip</td>\n",
       "      <td>Couple</td>\n",
       "      <td>NA</td>\n",
       "      <td>Duplex Double Room</td>\n",
       "      <td>Stayed 4 nights</td>\n",
       "      <td>None</td>\n",
       "    </tr>\n",
       "    <tr>\n",
       "      <th>2</th>\n",
       "      <td>s Gravesandestraat 55 Oost 1092 AA Amsterdam ...</td>\n",
       "      <td>194</td>\n",
       "      <td>7/31/2017</td>\n",
       "      <td>7.7</td>\n",
       "      <td>Hotel Arena</td>\n",
       "      <td>Australia</td>\n",
       "      <td>Rooms are nice but for elderly a bit difficul...</td>\n",
       "      <td>42</td>\n",
       "      <td>1403</td>\n",
       "      <td>Location was good and staff were ok It is cut...</td>\n",
       "      <td>...</td>\n",
       "      <td>3 days</td>\n",
       "      <td>52.360576</td>\n",
       "      <td>4.915968</td>\n",
       "      <td>NA</td>\n",
       "      <td>Leisure trip</td>\n",
       "      <td>Family with young children</td>\n",
       "      <td>NA</td>\n",
       "      <td>Duplex Double Room</td>\n",
       "      <td>Stayed 3 nights</td>\n",
       "      <td>Submitted from a mobile device</td>\n",
       "    </tr>\n",
       "    <tr>\n",
       "      <th>3</th>\n",
       "      <td>s Gravesandestraat 55 Oost 1092 AA Amsterdam ...</td>\n",
       "      <td>194</td>\n",
       "      <td>7/31/2017</td>\n",
       "      <td>7.7</td>\n",
       "      <td>Hotel Arena</td>\n",
       "      <td>United Kingdom</td>\n",
       "      <td>My room was dirty and I was afraid to walk ba...</td>\n",
       "      <td>210</td>\n",
       "      <td>1403</td>\n",
       "      <td>Great location in nice surroundings the bar a...</td>\n",
       "      <td>...</td>\n",
       "      <td>3 days</td>\n",
       "      <td>52.360576</td>\n",
       "      <td>4.915968</td>\n",
       "      <td>NA</td>\n",
       "      <td>Leisure trip</td>\n",
       "      <td>Solo traveler</td>\n",
       "      <td>NA</td>\n",
       "      <td>Duplex Double Room</td>\n",
       "      <td>Stayed 3 nights</td>\n",
       "      <td>None</td>\n",
       "    </tr>\n",
       "    <tr>\n",
       "      <th>4</th>\n",
       "      <td>s Gravesandestraat 55 Oost 1092 AA Amsterdam ...</td>\n",
       "      <td>194</td>\n",
       "      <td>7/24/2017</td>\n",
       "      <td>7.7</td>\n",
       "      <td>Hotel Arena</td>\n",
       "      <td>New Zealand</td>\n",
       "      <td>You When I booked with your company on line y...</td>\n",
       "      <td>140</td>\n",
       "      <td>1403</td>\n",
       "      <td>Amazing location and building Romantic setting</td>\n",
       "      <td>...</td>\n",
       "      <td>10 days</td>\n",
       "      <td>52.360576</td>\n",
       "      <td>4.915968</td>\n",
       "      <td>NA</td>\n",
       "      <td>Leisure trip</td>\n",
       "      <td>Couple</td>\n",
       "      <td>NA</td>\n",
       "      <td>Suite</td>\n",
       "      <td>Stayed 2 nights</td>\n",
       "      <td>Submitted from a mobile device</td>\n",
       "    </tr>\n",
       "  </tbody>\n",
       "</table>\n",
       "<p>5 rows × 24 columns</p>\n",
       "</div>"
      ],
      "text/plain": [
       "                                       Hotel_Address  \\\n",
       "0   s Gravesandestraat 55 Oost 1092 AA Amsterdam ...   \n",
       "1   s Gravesandestraat 55 Oost 1092 AA Amsterdam ...   \n",
       "2   s Gravesandestraat 55 Oost 1092 AA Amsterdam ...   \n",
       "3   s Gravesandestraat 55 Oost 1092 AA Amsterdam ...   \n",
       "4   s Gravesandestraat 55 Oost 1092 AA Amsterdam ...   \n",
       "\n",
       "   Additional_Number_of_Scoring Review_Date  Average_Score   Hotel_Name  \\\n",
       "0                           194    8/3/2017            7.7  Hotel Arena   \n",
       "1                           194    8/3/2017            7.7  Hotel Arena   \n",
       "2                           194   7/31/2017            7.7  Hotel Arena   \n",
       "3                           194   7/31/2017            7.7  Hotel Arena   \n",
       "4                           194   7/24/2017            7.7  Hotel Arena   \n",
       "\n",
       "  Reviewer_Nationality                                    Negative_Review  \\\n",
       "0              Russia    I am so angry that i made this post available...   \n",
       "1             Ireland                                         No Negative   \n",
       "2           Australia    Rooms are nice but for elderly a bit difficul...   \n",
       "3      United Kingdom    My room was dirty and I was afraid to walk ba...   \n",
       "4         New Zealand    You When I booked with your company on line y...   \n",
       "\n",
       "   Review_Total_Negative_Word_Counts  Total_Number_of_Reviews  \\\n",
       "0                                397                     1403   \n",
       "1                                  0                     1403   \n",
       "2                                 42                     1403   \n",
       "3                                210                     1403   \n",
       "4                                140                     1403   \n",
       "\n",
       "                                     Positive_Review  \\\n",
       "0   Only the park outside of the hotel was beauti...   \n",
       "1   No real complaints the hotel was great great ...   \n",
       "2   Location was good and staff were ok It is cut...   \n",
       "3   Great location in nice surroundings the bar a...   \n",
       "4    Amazing location and building Romantic setting    \n",
       "\n",
       "                ...                 days_since_review        lat       lng  \\\n",
       "0               ...                            0 days  52.360576  4.915968   \n",
       "1               ...                            0 days  52.360576  4.915968   \n",
       "2               ...                            3 days  52.360576  4.915968   \n",
       "3               ...                            3 days  52.360576  4.915968   \n",
       "4               ...                           10 days  52.360576  4.915968   \n",
       "\n",
       "  With_pet     Trip_type                    Trip_with  2_rooms  \\\n",
       "0       NA  Leisure trip                       Couple       NA   \n",
       "1       NA  Leisure trip                       Couple       NA   \n",
       "2       NA  Leisure trip   Family with young children       NA   \n",
       "3       NA  Leisure trip                Solo traveler       NA   \n",
       "4       NA  Leisure trip                       Couple       NA   \n",
       "\n",
       "             Room_type     Number_nights                           Mobile  \n",
       "0   Duplex Double Room   Stayed 6 nights                             None  \n",
       "1   Duplex Double Room   Stayed 4 nights                             None  \n",
       "2   Duplex Double Room   Stayed 3 nights   Submitted from a mobile device  \n",
       "3   Duplex Double Room   Stayed 3 nights                             None  \n",
       "4                Suite   Stayed 2 nights   Submitted from a mobile device  \n",
       "\n",
       "[5 rows x 24 columns]"
      ]
     },
     "execution_count": 25,
     "metadata": {},
     "output_type": "execute_result"
    }
   ],
   "source": [
    "data_tag.head()"
   ]
  },
  {
   "cell_type": "markdown",
   "metadata": {},
   "source": [
    "# TF-IDF model"
   ]
  },
  {
   "cell_type": "code",
   "execution_count": 26,
   "metadata": {
    "ExecuteTime": {
     "end_time": "2019-04-30T16:48:36.676494Z",
     "start_time": "2019-04-30T16:48:36.673368Z"
    }
   },
   "outputs": [],
   "source": [
    "key_words = ['room','service','breakfast','view','park','location','bar','wifi','bed',\n",
    "             'bathroom','staff','quite','noisy','clean','dirty']"
   ]
  },
  {
   "cell_type": "code",
   "execution_count": 27,
   "metadata": {
    "ExecuteTime": {
     "end_time": "2019-04-30T16:48:36.681834Z",
     "start_time": "2019-04-30T16:48:36.678552Z"
    }
   },
   "outputs": [],
   "source": [
    "key_words = ['room','servic','breakfast','view','park','locat','bar','wifi','bed',\n",
    "             'bathroom','staff','quite','nois','']"
   ]
  },
  {
   "cell_type": "code",
   "execution_count": 28,
   "metadata": {
    "ExecuteTime": {
     "end_time": "2019-04-30T16:48:36.736248Z",
     "start_time": "2019-04-30T16:48:36.684037Z"
    }
   },
   "outputs": [],
   "source": [
    "hotel_list = list(data_tag.Hotel_Name.value_counts()[:19].index)"
   ]
  },
  {
   "cell_type": "code",
   "execution_count": 29,
   "metadata": {
    "ExecuteTime": {
     "end_time": "2019-04-30T16:49:29.072869Z",
     "start_time": "2019-04-30T16:48:36.738273Z"
    }
   },
   "outputs": [],
   "source": [
    "from nltk.stem.porter import PorterStemmer\n",
    "\n",
    "results=pd.DataFrame(index=hotel_list,columns=key_words)\n",
    "\n",
    "vectorizer = TfidfVectorizer(ngram_range=(1,1),\n",
    "                             token_pattern=r'\\b[a-zA-Z]{3,}\\b',\n",
    "                             max_df=0.4, max_features = 300, stop_words='english')\n",
    "\n",
    "for i in range(19):  \n",
    "    pos_reviews=list(data_tag[data_tag['Hotel_Name']==hotel_list[i]]['Positive_Review'])\n",
    "\n",
    "    stemmer = PorterStemmer()\n",
    "    stem_reviews = []\n",
    "    for review in pos_reviews:\n",
    "        stem_words = nltk.word_tokenize(review)\n",
    "        stem_words = [stemmer.stem(word) for word in stem_words]\n",
    "        stem_reviews.append(' '.join(stem_words))\n",
    "\n",
    "    X = vectorizer.fit_transform(stem_reviews)\n",
    "    terms = vectorizer.get_feature_names()\n",
    "    tf_idf = pd.DataFrame(X.toarray().transpose(), index=terms)\n",
    "    tf_idf = tf_idf.transpose()\n",
    "    \n",
    "    for word in key_words:\n",
    "        if word not in list(tf_idf.columns):\n",
    "            tf_idf[word]=0\n",
    "    \n",
    "    pos=tf_idf[key_words].sum()\n",
    "\n",
    "    \n",
    "    \n",
    "    neg_reviews=list(data_tag[data_tag['Hotel_Name']==hotel_list[i]]['Negative_Review'])\n",
    "    \n",
    "    stemmer = PorterStemmer()\n",
    "    stem_reviews = []\n",
    "    for review in neg_reviews:\n",
    "        stem_words = nltk.word_tokenize(review)\n",
    "        stem_words = [stemmer.stem(word) for word in stem_words]\n",
    "        stem_reviews.append(' '.join(stem_words))\n",
    "\n",
    "    X = vectorizer.fit_transform(stem_reviews)\n",
    "    terms = vectorizer.get_feature_names()\n",
    "    tf_idf = pd.DataFrame(X.toarray().transpose(), index=terms)\n",
    "    tf_idf = tf_idf.transpose()\n",
    "\n",
    "    for word in key_words:\n",
    "        if word not in list(tf_idf.columns):\n",
    "            tf_idf[word]=0\n",
    "            \n",
    "    neg=tf_idf[key_words].sum()\n",
    "    \n",
    "    score=pos-neg\n",
    "    \n",
    "    results.loc[hotel_list[i]]=score.T"
   ]
  },
  {
   "cell_type": "code",
   "execution_count": 30,
   "metadata": {
    "ExecuteTime": {
     "end_time": "2019-04-30T16:49:29.094189Z",
     "start_time": "2019-04-30T16:49:29.074885Z"
    }
   },
   "outputs": [
    {
     "data": {
      "text/html": [
       "<div>\n",
       "<style scoped>\n",
       "    .dataframe tbody tr th:only-of-type {\n",
       "        vertical-align: middle;\n",
       "    }\n",
       "\n",
       "    .dataframe tbody tr th {\n",
       "        vertical-align: top;\n",
       "    }\n",
       "\n",
       "    .dataframe thead th {\n",
       "        text-align: right;\n",
       "    }\n",
       "</style>\n",
       "<table border=\"1\" class=\"dataframe\">\n",
       "  <thead>\n",
       "    <tr style=\"text-align: right;\">\n",
       "      <th></th>\n",
       "      <th>room</th>\n",
       "      <th>servic</th>\n",
       "      <th>breakfast</th>\n",
       "      <th>view</th>\n",
       "      <th>park</th>\n",
       "      <th>locat</th>\n",
       "      <th>bar</th>\n",
       "      <th>wifi</th>\n",
       "      <th>bed</th>\n",
       "      <th>bathroom</th>\n",
       "      <th>staff</th>\n",
       "      <th>quite</th>\n",
       "      <th>nois</th>\n",
       "      <th></th>\n",
       "    </tr>\n",
       "  </thead>\n",
       "  <tbody>\n",
       "    <tr>\n",
       "      <th>Britannia International Hotel Canary Wharf</th>\n",
       "      <td>-36.2177</td>\n",
       "      <td>-5.45461</td>\n",
       "      <td>-67.4712</td>\n",
       "      <td>127.828</td>\n",
       "      <td>-50.5164</td>\n",
       "      <td>514.998</td>\n",
       "      <td>14.1891</td>\n",
       "      <td>-112.849</td>\n",
       "      <td>-48.4357</td>\n",
       "      <td>-41.7808</td>\n",
       "      <td>68.9465</td>\n",
       "      <td>0</td>\n",
       "      <td>-49.8147</td>\n",
       "      <td>0</td>\n",
       "    </tr>\n",
       "    <tr>\n",
       "      <th>Strand Palace Hotel</th>\n",
       "      <td>-165.42</td>\n",
       "      <td>31.3362</td>\n",
       "      <td>72.0534</td>\n",
       "      <td>-45.5523</td>\n",
       "      <td>0</td>\n",
       "      <td>-24.6199</td>\n",
       "      <td>-11.8728</td>\n",
       "      <td>-4.03468</td>\n",
       "      <td>-18.9476</td>\n",
       "      <td>-54.656</td>\n",
       "      <td>244.573</td>\n",
       "      <td>0</td>\n",
       "      <td>-41.6949</td>\n",
       "      <td>0</td>\n",
       "    </tr>\n",
       "    <tr>\n",
       "      <th>Park Plaza Westminster Bridge London</th>\n",
       "      <td>50.8803</td>\n",
       "      <td>35.0126</td>\n",
       "      <td>-37.1721</td>\n",
       "      <td>76.11</td>\n",
       "      <td>-12.8676</td>\n",
       "      <td>-23.1605</td>\n",
       "      <td>0.226253</td>\n",
       "      <td>-23.9596</td>\n",
       "      <td>76.6892</td>\n",
       "      <td>11.4877</td>\n",
       "      <td>157.083</td>\n",
       "      <td>0</td>\n",
       "      <td>-7.37187</td>\n",
       "      <td>0</td>\n",
       "    </tr>\n",
       "    <tr>\n",
       "      <th>Copthorne Tara Hotel London Kensington</th>\n",
       "      <td>-36.4352</td>\n",
       "      <td>16.6983</td>\n",
       "      <td>40.7023</td>\n",
       "      <td>27.0225</td>\n",
       "      <td>24.5239</td>\n",
       "      <td>425.557</td>\n",
       "      <td>-15.1489</td>\n",
       "      <td>-56.5933</td>\n",
       "      <td>1.53463</td>\n",
       "      <td>-57.2376</td>\n",
       "      <td>230.226</td>\n",
       "      <td>0</td>\n",
       "      <td>-27.6607</td>\n",
       "      <td>0</td>\n",
       "    </tr>\n",
       "    <tr>\n",
       "      <th>DoubleTree by Hilton Hotel London Tower of London</th>\n",
       "      <td>-23.7138</td>\n",
       "      <td>20.5037</td>\n",
       "      <td>47.2945</td>\n",
       "      <td>49.547</td>\n",
       "      <td>-9.47469</td>\n",
       "      <td>284.477</td>\n",
       "      <td>76.6393</td>\n",
       "      <td>-7.47105</td>\n",
       "      <td>83.2699</td>\n",
       "      <td>-10.0686</td>\n",
       "      <td>164.296</td>\n",
       "      <td>0</td>\n",
       "      <td>-7.46482</td>\n",
       "      <td>0</td>\n",
       "    </tr>\n",
       "    <tr>\n",
       "      <th>Grand Royale London Hyde Park</th>\n",
       "      <td>152.075</td>\n",
       "      <td>14.6987</td>\n",
       "      <td>86.4894</td>\n",
       "      <td>-24.3161</td>\n",
       "      <td>47.8045</td>\n",
       "      <td>316.863</td>\n",
       "      <td>16.8585</td>\n",
       "      <td>2.03916</td>\n",
       "      <td>3.1222</td>\n",
       "      <td>-64.4012</td>\n",
       "      <td>190.442</td>\n",
       "      <td>0</td>\n",
       "      <td>-13.8074</td>\n",
       "      <td>0</td>\n",
       "    </tr>\n",
       "    <tr>\n",
       "      <th>Holiday Inn London Kensington</th>\n",
       "      <td>153.81</td>\n",
       "      <td>10.5097</td>\n",
       "      <td>33.5038</td>\n",
       "      <td>-12.3514</td>\n",
       "      <td>3.71765</td>\n",
       "      <td>354.776</td>\n",
       "      <td>-9.37796</td>\n",
       "      <td>-75.5268</td>\n",
       "      <td>29.4686</td>\n",
       "      <td>-65.3256</td>\n",
       "      <td>137.067</td>\n",
       "      <td>0</td>\n",
       "      <td>-15.6665</td>\n",
       "      <td>0</td>\n",
       "    </tr>\n",
       "    <tr>\n",
       "      <th>Hilton London Metropole</th>\n",
       "      <td>-98.9367</td>\n",
       "      <td>-3.71272</td>\n",
       "      <td>64.0692</td>\n",
       "      <td>19.7646</td>\n",
       "      <td>2.82036</td>\n",
       "      <td>300.436</td>\n",
       "      <td>-1.10409</td>\n",
       "      <td>-33.2898</td>\n",
       "      <td>10.0483</td>\n",
       "      <td>-47.899</td>\n",
       "      <td>115.035</td>\n",
       "      <td>0</td>\n",
       "      <td>-11.4659</td>\n",
       "      <td>0</td>\n",
       "    </tr>\n",
       "    <tr>\n",
       "      <th>Millennium Gloucester Hotel London</th>\n",
       "      <td>-62.3907</td>\n",
       "      <td>-0.723667</td>\n",
       "      <td>34.9577</td>\n",
       "      <td>-14.8319</td>\n",
       "      <td>-2.00891</td>\n",
       "      <td>-13.6122</td>\n",
       "      <td>-4.3445</td>\n",
       "      <td>-51.2507</td>\n",
       "      <td>56.5783</td>\n",
       "      <td>-47.3363</td>\n",
       "      <td>109.37</td>\n",
       "      <td>0</td>\n",
       "      <td>-20.9963</td>\n",
       "      <td>0</td>\n",
       "    </tr>\n",
       "    <tr>\n",
       "      <th>Intercontinental London The O2</th>\n",
       "      <td>74.0732</td>\n",
       "      <td>21.1694</td>\n",
       "      <td>38.9585</td>\n",
       "      <td>100.169</td>\n",
       "      <td>-26.1078</td>\n",
       "      <td>131.205</td>\n",
       "      <td>-11.8162</td>\n",
       "      <td>-5.27166</td>\n",
       "      <td>131.016</td>\n",
       "      <td>29.2881</td>\n",
       "      <td>-40.3414</td>\n",
       "      <td>0</td>\n",
       "      <td>0</td>\n",
       "      <td>0</td>\n",
       "    </tr>\n",
       "    <tr>\n",
       "      <th>Park Grand Paddington Court</th>\n",
       "      <td>168.684</td>\n",
       "      <td>21.2674</td>\n",
       "      <td>23.605</td>\n",
       "      <td>-15.1525</td>\n",
       "      <td>30.3518</td>\n",
       "      <td>223.628</td>\n",
       "      <td>-10.4884</td>\n",
       "      <td>6.5585</td>\n",
       "      <td>0.799853</td>\n",
       "      <td>2.8631</td>\n",
       "      <td>-42.3402</td>\n",
       "      <td>0</td>\n",
       "      <td>-17.221</td>\n",
       "      <td>0</td>\n",
       "    </tr>\n",
       "    <tr>\n",
       "      <th>Hilton London Wembley</th>\n",
       "      <td>38.1119</td>\n",
       "      <td>-0.845956</td>\n",
       "      <td>52.7351</td>\n",
       "      <td>6.87806</td>\n",
       "      <td>-24.6183</td>\n",
       "      <td>186.859</td>\n",
       "      <td>-35.8308</td>\n",
       "      <td>-26.2198</td>\n",
       "      <td>71.1331</td>\n",
       "      <td>5.63486</td>\n",
       "      <td>114.675</td>\n",
       "      <td>0</td>\n",
       "      <td>-7.56076</td>\n",
       "      <td>0</td>\n",
       "    </tr>\n",
       "    <tr>\n",
       "      <th>Park Plaza County Hall London</th>\n",
       "      <td>39.8036</td>\n",
       "      <td>14.5821</td>\n",
       "      <td>-36.0326</td>\n",
       "      <td>41.5509</td>\n",
       "      <td>-5.55435</td>\n",
       "      <td>262.365</td>\n",
       "      <td>-17.7165</td>\n",
       "      <td>-9.83065</td>\n",
       "      <td>3.83299</td>\n",
       "      <td>-21.6118</td>\n",
       "      <td>122.639</td>\n",
       "      <td>0</td>\n",
       "      <td>-2.49352</td>\n",
       "      <td>0</td>\n",
       "    </tr>\n",
       "    <tr>\n",
       "      <th>Blakemore Hyde Park</th>\n",
       "      <td>37.694</td>\n",
       "      <td>21.4426</td>\n",
       "      <td>2.91955</td>\n",
       "      <td>-6.36564</td>\n",
       "      <td>35.7315</td>\n",
       "      <td>172.704</td>\n",
       "      <td>9.0053</td>\n",
       "      <td>-35.3216</td>\n",
       "      <td>68.8966</td>\n",
       "      <td>-4.81245</td>\n",
       "      <td>146.729</td>\n",
       "      <td>0</td>\n",
       "      <td>-17.6849</td>\n",
       "      <td>0</td>\n",
       "    </tr>\n",
       "    <tr>\n",
       "      <th>Park Plaza London Riverbank</th>\n",
       "      <td>6.75191</td>\n",
       "      <td>20.6386</td>\n",
       "      <td>-8.05908</td>\n",
       "      <td>41.3749</td>\n",
       "      <td>-10.2442</td>\n",
       "      <td>177.418</td>\n",
       "      <td>-4.39139</td>\n",
       "      <td>-1.49581</td>\n",
       "      <td>31.68</td>\n",
       "      <td>14.9695</td>\n",
       "      <td>122.553</td>\n",
       "      <td>0</td>\n",
       "      <td>-31.2266</td>\n",
       "      <td>0</td>\n",
       "    </tr>\n",
       "    <tr>\n",
       "      <th>M by Montcalm Shoreditch London Tech City</th>\n",
       "      <td>76.6584</td>\n",
       "      <td>17.1982</td>\n",
       "      <td>-31.8881</td>\n",
       "      <td>18.0572</td>\n",
       "      <td>-20.0623</td>\n",
       "      <td>91.8571</td>\n",
       "      <td>-3.07743</td>\n",
       "      <td>-6.40341</td>\n",
       "      <td>79.6852</td>\n",
       "      <td>8.13194</td>\n",
       "      <td>110.269</td>\n",
       "      <td>0</td>\n",
       "      <td>-5.45102</td>\n",
       "      <td>0</td>\n",
       "    </tr>\n",
       "    <tr>\n",
       "      <th>DoubleTree by Hilton London Docklands Riverside</th>\n",
       "      <td>-31.3072</td>\n",
       "      <td>5.11557</td>\n",
       "      <td>68.1019</td>\n",
       "      <td>68.9566</td>\n",
       "      <td>-12.5811</td>\n",
       "      <td>118.271</td>\n",
       "      <td>-9.50386</td>\n",
       "      <td>-34.9913</td>\n",
       "      <td>45.7208</td>\n",
       "      <td>-32.3012</td>\n",
       "      <td>86.7234</td>\n",
       "      <td>0</td>\n",
       "      <td>-12.6632</td>\n",
       "      <td>0</td>\n",
       "    </tr>\n",
       "    <tr>\n",
       "      <th>St James Court A Taj Hotel London</th>\n",
       "      <td>-11.1511</td>\n",
       "      <td>47.3881</td>\n",
       "      <td>-22.1032</td>\n",
       "      <td>-15.9528</td>\n",
       "      <td>11.3089</td>\n",
       "      <td>214.238</td>\n",
       "      <td>4.38187</td>\n",
       "      <td>-13.9264</td>\n",
       "      <td>33.7393</td>\n",
       "      <td>-31.8718</td>\n",
       "      <td>-29.3959</td>\n",
       "      <td>0</td>\n",
       "      <td>-16.0861</td>\n",
       "      <td>0</td>\n",
       "    </tr>\n",
       "    <tr>\n",
       "      <th>Park Grand London Kensington</th>\n",
       "      <td>-16.4632</td>\n",
       "      <td>26.2681</td>\n",
       "      <td>23.4839</td>\n",
       "      <td>-14.7313</td>\n",
       "      <td>-3.27817</td>\n",
       "      <td>187.848</td>\n",
       "      <td>-7.0495</td>\n",
       "      <td>12.9198</td>\n",
       "      <td>62.7808</td>\n",
       "      <td>16.1146</td>\n",
       "      <td>-30.7266</td>\n",
       "      <td>0</td>\n",
       "      <td>-13.6691</td>\n",
       "      <td>0</td>\n",
       "    </tr>\n",
       "  </tbody>\n",
       "</table>\n",
       "</div>"
      ],
      "text/plain": [
       "                                                      room    servic  \\\n",
       "Britannia International Hotel Canary Wharf        -36.2177  -5.45461   \n",
       "Strand Palace Hotel                                -165.42   31.3362   \n",
       "Park Plaza Westminster Bridge London               50.8803   35.0126   \n",
       "Copthorne Tara Hotel London Kensington            -36.4352   16.6983   \n",
       "DoubleTree by Hilton Hotel London Tower of London -23.7138   20.5037   \n",
       "Grand Royale London Hyde Park                      152.075   14.6987   \n",
       "Holiday Inn London Kensington                       153.81   10.5097   \n",
       "Hilton London Metropole                           -98.9367  -3.71272   \n",
       "Millennium Gloucester Hotel London                -62.3907 -0.723667   \n",
       "Intercontinental London The O2                     74.0732   21.1694   \n",
       "Park Grand Paddington Court                        168.684   21.2674   \n",
       "Hilton London Wembley                              38.1119 -0.845956   \n",
       "Park Plaza County Hall London                      39.8036   14.5821   \n",
       "Blakemore Hyde Park                                 37.694   21.4426   \n",
       "Park Plaza London Riverbank                        6.75191   20.6386   \n",
       "M by Montcalm Shoreditch London Tech City          76.6584   17.1982   \n",
       "DoubleTree by Hilton London Docklands Riverside   -31.3072   5.11557   \n",
       "St James Court A Taj Hotel London                 -11.1511   47.3881   \n",
       "Park Grand London Kensington                      -16.4632   26.2681   \n",
       "\n",
       "                                                  breakfast     view     park  \\\n",
       "Britannia International Hotel Canary Wharf         -67.4712  127.828 -50.5164   \n",
       "Strand Palace Hotel                                 72.0534 -45.5523        0   \n",
       "Park Plaza Westminster Bridge London               -37.1721    76.11 -12.8676   \n",
       "Copthorne Tara Hotel London Kensington              40.7023  27.0225  24.5239   \n",
       "DoubleTree by Hilton Hotel London Tower of London   47.2945   49.547 -9.47469   \n",
       "Grand Royale London Hyde Park                       86.4894 -24.3161  47.8045   \n",
       "Holiday Inn London Kensington                       33.5038 -12.3514  3.71765   \n",
       "Hilton London Metropole                             64.0692  19.7646  2.82036   \n",
       "Millennium Gloucester Hotel London                  34.9577 -14.8319 -2.00891   \n",
       "Intercontinental London The O2                      38.9585  100.169 -26.1078   \n",
       "Park Grand Paddington Court                          23.605 -15.1525  30.3518   \n",
       "Hilton London Wembley                               52.7351  6.87806 -24.6183   \n",
       "Park Plaza County Hall London                      -36.0326  41.5509 -5.55435   \n",
       "Blakemore Hyde Park                                 2.91955 -6.36564  35.7315   \n",
       "Park Plaza London Riverbank                        -8.05908  41.3749 -10.2442   \n",
       "M by Montcalm Shoreditch London Tech City          -31.8881  18.0572 -20.0623   \n",
       "DoubleTree by Hilton London Docklands Riverside     68.1019  68.9566 -12.5811   \n",
       "St James Court A Taj Hotel London                  -22.1032 -15.9528  11.3089   \n",
       "Park Grand London Kensington                        23.4839 -14.7313 -3.27817   \n",
       "\n",
       "                                                     locat       bar     wifi  \\\n",
       "Britannia International Hotel Canary Wharf         514.998   14.1891 -112.849   \n",
       "Strand Palace Hotel                               -24.6199  -11.8728 -4.03468   \n",
       "Park Plaza Westminster Bridge London              -23.1605  0.226253 -23.9596   \n",
       "Copthorne Tara Hotel London Kensington             425.557  -15.1489 -56.5933   \n",
       "DoubleTree by Hilton Hotel London Tower of London  284.477   76.6393 -7.47105   \n",
       "Grand Royale London Hyde Park                      316.863   16.8585  2.03916   \n",
       "Holiday Inn London Kensington                      354.776  -9.37796 -75.5268   \n",
       "Hilton London Metropole                            300.436  -1.10409 -33.2898   \n",
       "Millennium Gloucester Hotel London                -13.6122   -4.3445 -51.2507   \n",
       "Intercontinental London The O2                     131.205  -11.8162 -5.27166   \n",
       "Park Grand Paddington Court                        223.628  -10.4884   6.5585   \n",
       "Hilton London Wembley                              186.859  -35.8308 -26.2198   \n",
       "Park Plaza County Hall London                      262.365  -17.7165 -9.83065   \n",
       "Blakemore Hyde Park                                172.704    9.0053 -35.3216   \n",
       "Park Plaza London Riverbank                        177.418  -4.39139 -1.49581   \n",
       "M by Montcalm Shoreditch London Tech City          91.8571  -3.07743 -6.40341   \n",
       "DoubleTree by Hilton London Docklands Riverside    118.271  -9.50386 -34.9913   \n",
       "St James Court A Taj Hotel London                  214.238   4.38187 -13.9264   \n",
       "Park Grand London Kensington                       187.848   -7.0495  12.9198   \n",
       "\n",
       "                                                        bed bathroom    staff  \\\n",
       "Britannia International Hotel Canary Wharf         -48.4357 -41.7808  68.9465   \n",
       "Strand Palace Hotel                                -18.9476  -54.656  244.573   \n",
       "Park Plaza Westminster Bridge London                76.6892  11.4877  157.083   \n",
       "Copthorne Tara Hotel London Kensington              1.53463 -57.2376  230.226   \n",
       "DoubleTree by Hilton Hotel London Tower of London   83.2699 -10.0686  164.296   \n",
       "Grand Royale London Hyde Park                        3.1222 -64.4012  190.442   \n",
       "Holiday Inn London Kensington                       29.4686 -65.3256  137.067   \n",
       "Hilton London Metropole                             10.0483  -47.899  115.035   \n",
       "Millennium Gloucester Hotel London                  56.5783 -47.3363   109.37   \n",
       "Intercontinental London The O2                      131.016  29.2881 -40.3414   \n",
       "Park Grand Paddington Court                        0.799853   2.8631 -42.3402   \n",
       "Hilton London Wembley                               71.1331  5.63486  114.675   \n",
       "Park Plaza County Hall London                       3.83299 -21.6118  122.639   \n",
       "Blakemore Hyde Park                                 68.8966 -4.81245  146.729   \n",
       "Park Plaza London Riverbank                           31.68  14.9695  122.553   \n",
       "M by Montcalm Shoreditch London Tech City           79.6852  8.13194  110.269   \n",
       "DoubleTree by Hilton London Docklands Riverside     45.7208 -32.3012  86.7234   \n",
       "St James Court A Taj Hotel London                   33.7393 -31.8718 -29.3959   \n",
       "Park Grand London Kensington                        62.7808  16.1146 -30.7266   \n",
       "\n",
       "                                                  quite     nois     \n",
       "Britannia International Hotel Canary Wharf            0 -49.8147  0  \n",
       "Strand Palace Hotel                                   0 -41.6949  0  \n",
       "Park Plaza Westminster Bridge London                  0 -7.37187  0  \n",
       "Copthorne Tara Hotel London Kensington                0 -27.6607  0  \n",
       "DoubleTree by Hilton Hotel London Tower of London     0 -7.46482  0  \n",
       "Grand Royale London Hyde Park                         0 -13.8074  0  \n",
       "Holiday Inn London Kensington                         0 -15.6665  0  \n",
       "Hilton London Metropole                               0 -11.4659  0  \n",
       "Millennium Gloucester Hotel London                    0 -20.9963  0  \n",
       "Intercontinental London The O2                        0        0  0  \n",
       "Park Grand Paddington Court                           0  -17.221  0  \n",
       "Hilton London Wembley                                 0 -7.56076  0  \n",
       "Park Plaza County Hall London                         0 -2.49352  0  \n",
       "Blakemore Hyde Park                                   0 -17.6849  0  \n",
       "Park Plaza London Riverbank                           0 -31.2266  0  \n",
       "M by Montcalm Shoreditch London Tech City             0 -5.45102  0  \n",
       "DoubleTree by Hilton London Docklands Riverside       0 -12.6632  0  \n",
       "St James Court A Taj Hotel London                     0 -16.0861  0  \n",
       "Park Grand London Kensington                          0 -13.6691  0  "
      ]
     },
     "execution_count": 30,
     "metadata": {},
     "output_type": "execute_result"
    }
   ],
   "source": [
    "results"
   ]
  },
  {
   "cell_type": "code",
   "execution_count": 40,
   "metadata": {
    "ExecuteTime": {
     "end_time": "2019-04-30T22:29:47.005228Z",
     "start_time": "2019-04-30T22:29:46.961605Z"
    }
   },
   "outputs": [
    {
     "data": {
      "text/html": [
       "<div>\n",
       "<style scoped>\n",
       "    .dataframe tbody tr th:only-of-type {\n",
       "        vertical-align: middle;\n",
       "    }\n",
       "\n",
       "    .dataframe tbody tr th {\n",
       "        vertical-align: top;\n",
       "    }\n",
       "\n",
       "    .dataframe thead th {\n",
       "        text-align: right;\n",
       "    }\n",
       "</style>\n",
       "<table border=\"1\" class=\"dataframe\">\n",
       "  <thead>\n",
       "    <tr style=\"text-align: right;\">\n",
       "      <th></th>\n",
       "      <th>room</th>\n",
       "      <th>servic</th>\n",
       "      <th>bar</th>\n",
       "    </tr>\n",
       "  </thead>\n",
       "  <tbody>\n",
       "    <tr>\n",
       "      <th>Britannia International Hotel Canary Wharf</th>\n",
       "      <td>-36.2177</td>\n",
       "      <td>-5.45461</td>\n",
       "      <td>14.1891</td>\n",
       "    </tr>\n",
       "    <tr>\n",
       "      <th>Strand Palace Hotel</th>\n",
       "      <td>-165.42</td>\n",
       "      <td>31.3362</td>\n",
       "      <td>-11.8728</td>\n",
       "    </tr>\n",
       "    <tr>\n",
       "      <th>Park Plaza Westminster Bridge London</th>\n",
       "      <td>50.8803</td>\n",
       "      <td>35.0126</td>\n",
       "      <td>0.226253</td>\n",
       "    </tr>\n",
       "    <tr>\n",
       "      <th>Copthorne Tara Hotel London Kensington</th>\n",
       "      <td>-36.4352</td>\n",
       "      <td>16.6983</td>\n",
       "      <td>-15.1489</td>\n",
       "    </tr>\n",
       "    <tr>\n",
       "      <th>DoubleTree by Hilton Hotel London Tower of London</th>\n",
       "      <td>-23.7138</td>\n",
       "      <td>20.5037</td>\n",
       "      <td>76.6393</td>\n",
       "    </tr>\n",
       "    <tr>\n",
       "      <th>Grand Royale London Hyde Park</th>\n",
       "      <td>152.075</td>\n",
       "      <td>14.6987</td>\n",
       "      <td>16.8585</td>\n",
       "    </tr>\n",
       "    <tr>\n",
       "      <th>Holiday Inn London Kensington</th>\n",
       "      <td>153.81</td>\n",
       "      <td>10.5097</td>\n",
       "      <td>-9.37796</td>\n",
       "    </tr>\n",
       "    <tr>\n",
       "      <th>Hilton London Metropole</th>\n",
       "      <td>-98.9367</td>\n",
       "      <td>-3.71272</td>\n",
       "      <td>-1.10409</td>\n",
       "    </tr>\n",
       "    <tr>\n",
       "      <th>Millennium Gloucester Hotel London</th>\n",
       "      <td>-62.3907</td>\n",
       "      <td>-0.723667</td>\n",
       "      <td>-4.3445</td>\n",
       "    </tr>\n",
       "    <tr>\n",
       "      <th>Intercontinental London The O2</th>\n",
       "      <td>74.0732</td>\n",
       "      <td>21.1694</td>\n",
       "      <td>-11.8162</td>\n",
       "    </tr>\n",
       "    <tr>\n",
       "      <th>Park Grand Paddington Court</th>\n",
       "      <td>168.684</td>\n",
       "      <td>21.2674</td>\n",
       "      <td>-10.4884</td>\n",
       "    </tr>\n",
       "    <tr>\n",
       "      <th>Hilton London Wembley</th>\n",
       "      <td>38.1119</td>\n",
       "      <td>-0.845956</td>\n",
       "      <td>-35.8308</td>\n",
       "    </tr>\n",
       "    <tr>\n",
       "      <th>Park Plaza County Hall London</th>\n",
       "      <td>39.8036</td>\n",
       "      <td>14.5821</td>\n",
       "      <td>-17.7165</td>\n",
       "    </tr>\n",
       "    <tr>\n",
       "      <th>Blakemore Hyde Park</th>\n",
       "      <td>37.694</td>\n",
       "      <td>21.4426</td>\n",
       "      <td>9.0053</td>\n",
       "    </tr>\n",
       "    <tr>\n",
       "      <th>Park Plaza London Riverbank</th>\n",
       "      <td>6.75191</td>\n",
       "      <td>20.6386</td>\n",
       "      <td>-4.39139</td>\n",
       "    </tr>\n",
       "    <tr>\n",
       "      <th>M by Montcalm Shoreditch London Tech City</th>\n",
       "      <td>76.6584</td>\n",
       "      <td>17.1982</td>\n",
       "      <td>-3.07743</td>\n",
       "    </tr>\n",
       "    <tr>\n",
       "      <th>DoubleTree by Hilton London Docklands Riverside</th>\n",
       "      <td>-31.3072</td>\n",
       "      <td>5.11557</td>\n",
       "      <td>-9.50386</td>\n",
       "    </tr>\n",
       "    <tr>\n",
       "      <th>St James Court A Taj Hotel London</th>\n",
       "      <td>-11.1511</td>\n",
       "      <td>47.3881</td>\n",
       "      <td>4.38187</td>\n",
       "    </tr>\n",
       "    <tr>\n",
       "      <th>Park Grand London Kensington</th>\n",
       "      <td>-16.4632</td>\n",
       "      <td>26.2681</td>\n",
       "      <td>-7.0495</td>\n",
       "    </tr>\n",
       "  </tbody>\n",
       "</table>\n",
       "</div>"
      ],
      "text/plain": [
       "                                                      room    servic       bar\n",
       "Britannia International Hotel Canary Wharf        -36.2177  -5.45461   14.1891\n",
       "Strand Palace Hotel                                -165.42   31.3362  -11.8728\n",
       "Park Plaza Westminster Bridge London               50.8803   35.0126  0.226253\n",
       "Copthorne Tara Hotel London Kensington            -36.4352   16.6983  -15.1489\n",
       "DoubleTree by Hilton Hotel London Tower of London -23.7138   20.5037   76.6393\n",
       "Grand Royale London Hyde Park                      152.075   14.6987   16.8585\n",
       "Holiday Inn London Kensington                       153.81   10.5097  -9.37796\n",
       "Hilton London Metropole                           -98.9367  -3.71272  -1.10409\n",
       "Millennium Gloucester Hotel London                -62.3907 -0.723667   -4.3445\n",
       "Intercontinental London The O2                     74.0732   21.1694  -11.8162\n",
       "Park Grand Paddington Court                        168.684   21.2674  -10.4884\n",
       "Hilton London Wembley                              38.1119 -0.845956  -35.8308\n",
       "Park Plaza County Hall London                      39.8036   14.5821  -17.7165\n",
       "Blakemore Hyde Park                                 37.694   21.4426    9.0053\n",
       "Park Plaza London Riverbank                        6.75191   20.6386  -4.39139\n",
       "M by Montcalm Shoreditch London Tech City          76.6584   17.1982  -3.07743\n",
       "DoubleTree by Hilton London Docklands Riverside   -31.3072   5.11557  -9.50386\n",
       "St James Court A Taj Hotel London                 -11.1511   47.3881   4.38187\n",
       "Park Grand London Kensington                      -16.4632   26.2681   -7.0495"
      ]
     },
     "execution_count": 40,
     "metadata": {},
     "output_type": "execute_result"
    }
   ],
   "source": [
    "results[['room','servic','bar']]"
   ]
  },
  {
   "cell_type": "code",
   "execution_count": 49,
   "metadata": {
    "ExecuteTime": {
     "end_time": "2019-04-30T22:31:16.549653Z",
     "start_time": "2019-04-30T22:31:16.535095Z"
    }
   },
   "outputs": [
    {
     "data": {
      "text/plain": [
       "Park Grand Paddington Court                           89.6832\n",
       "Grand Royale London Hyde Park                         83.7469\n",
       "Holiday Inn London Kensington                         78.8452\n",
       "M by Montcalm Shoreditch London Tech City              43.549\n",
       "Intercontinental London The O2                        42.1237\n",
       "Park Plaza Westminster Bridge London                  37.1487\n",
       "Blakemore Hyde Park                                   27.4954\n",
       "Park Plaza County Hall London                         21.8097\n",
       "Hilton London Wembley                                 12.8022\n",
       "St James Court A Taj Hotel London                     10.9508\n",
       "Park Plaza London Riverbank                           9.52358\n",
       "DoubleTree by Hilton Hotel London Tower of London     7.75089\n",
       "Park Grand London Kensington                        -0.650507\n",
       "Copthorne Tara Hotel London Kensington               -15.1763\n",
       "DoubleTree by Hilton London Docklands Riverside      -15.5324\n",
       "Britannia International Hotel Canary Wharf           -17.5622\n",
       "Millennium Gloucester Hotel London                   -32.1606\n",
       "Hilton London Metropole                                -50.89\n",
       "Strand Palace Hotel                                  -74.2436\n",
       "dtype: object"
      ]
     },
     "execution_count": 49,
     "metadata": {},
     "output_type": "execute_result"
    }
   ],
   "source": [
    "(3*results['room']+2*results['servic']+results['bar']).sort_values(ascending=False)/6"
   ]
  }
 ],
 "metadata": {
  "kernelspec": {
   "display_name": "Python 3",
   "language": "python",
   "name": "python3"
  },
  "language_info": {
   "codemirror_mode": {
    "name": "ipython",
    "version": 3
   },
   "file_extension": ".py",
   "mimetype": "text/x-python",
   "name": "python",
   "nbconvert_exporter": "python",
   "pygments_lexer": "ipython3",
   "version": "3.7.1"
  },
  "toc": {
   "base_numbering": 1,
   "nav_menu": {},
   "number_sections": true,
   "sideBar": true,
   "skip_h1_title": false,
   "title_cell": "Table of Contents",
   "title_sidebar": "Contents",
   "toc_cell": false,
   "toc_position": {},
   "toc_section_display": true,
   "toc_window_display": false
  },
  "varInspector": {
   "cols": {
    "lenName": 16,
    "lenType": 16,
    "lenVar": 40
   },
   "kernels_config": {
    "python": {
     "delete_cmd_postfix": "",
     "delete_cmd_prefix": "del ",
     "library": "var_list.py",
     "varRefreshCmd": "print(var_dic_list())"
    },
    "r": {
     "delete_cmd_postfix": ") ",
     "delete_cmd_prefix": "rm(",
     "library": "var_list.r",
     "varRefreshCmd": "cat(var_dic_list()) "
    }
   },
   "types_to_exclude": [
    "module",
    "function",
    "builtin_function_or_method",
    "instance",
    "_Feature"
   ],
   "window_display": false
  }
 },
 "nbformat": 4,
 "nbformat_minor": 2
}
